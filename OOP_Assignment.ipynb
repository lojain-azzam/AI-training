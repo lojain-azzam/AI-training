{
 "cells": [
  {
   "cell_type": "markdown",
   "id": "e32ac1cc",
   "metadata": {},
   "source": [
    "# OOP Assignment \n",
    "\n"
   ]
  },
  {
   "cell_type": "markdown",
   "id": "70b9c090",
   "metadata": {},
   "source": [
    "### Creating a Simple Class\n",
    "Create a class called `Rectangle` that represents a rectangle shape. The class should have the following features:\n",
    "\n",
    "* Attributes for width and height\n",
    "* A method to calculate the area\n",
    "* A method to calculate the perimeter"
   ]
  },
  {
   "cell_type": "code",
   "execution_count": 2,
   "id": "8081d7e7",
   "metadata": {},
   "outputs": [
    {
     "name": "stdout",
     "output_type": "stream",
     "text": [
      "Area: 15\n",
      "Perimeter: 16\n"
     ]
    }
   ],
   "source": [
    "class Rectangle:\n",
    "\n",
    "    def __init__(self, width, height):\n",
    "        self.width = width\n",
    "        self.height = height\n",
    "\n",
    "    def calculate_area(self):\n",
    "        return self.width * self.height\n",
    "\n",
    "    def calculate_perimeter(self):\n",
    "        return 2 * (self.width + self.height)\n",
    "\n",
    "# Test your Rectangle class\n",
    "rect = Rectangle(5, 3)\n",
    "print(f\"Area: {rect.calculate_area()}\")\n",
    "print(f\"Perimeter: {rect.calculate_perimeter()}\")\n"
   ]
  },
  {
   "cell_type": "markdown",
   "id": "2ce9bac6",
   "metadata": {},
   "source": [
    "### Inheritance\n",
    "Inheritance is a fundamental concept in object-oriented programming (OOP) that allows a new class to be based on an existing class. The new class inherits the `properties (attributes)` and `behaviors (methods)` of the existing class, and can also add new properties and methods or modify the inherited ones.\n",
    "\n",
    "The class that is being inherited from is called the `\"parent\" or \"base\"` class, while the new class that inherits from the parent class is called the `\"child\" or \"derived\"` class.\n"
   ]
  },
  {
   "cell_type": "markdown",
   "id": "48ed3aa4",
   "metadata": {},
   "source": [
    "Create a `Square` class that inherits from the `Rectangle` class. The `Square` class should:\n",
    "\n",
    "* Have only one side length parameter in its constructor\n",
    "* Override the __init__ method to set both width and height to the same value"
   ]
  },
  {
   "cell_type": "code",
   "execution_count": 3,
   "id": "9d1a6fdd",
   "metadata": {},
   "outputs": [
    {
     "name": "stdout",
     "output_type": "stream",
     "text": [
      "Square Area: 16\n",
      "Square Perimeter: 16\n"
     ]
    }
   ],
   "source": [
    "class Square(Rectangle):\n",
    "    def __init__(self, side_length):\n",
    "        super().__init__(side_length, side_length)\n",
    "        pass\n",
    "\n",
    "# Test your Square class\n",
    "square = Square(4)\n",
    "print(f\"Square Area: {square.calculate_area()}\")\n",
    "print(f\"Square Perimeter: {square.calculate_perimeter()}\")"
   ]
  },
  {
   "cell_type": "markdown",
   "id": "f20b17f2",
   "metadata": {},
   "source": [
    "### Polymorphism\n",
    "Polymorphism is a fundamental concept in object-oriented programming (OOP) that allows objects of different classes to be treated as objects of a common superclass.\n",
    "\n",
    "In other words, polymorphism enables objects of different classes to be used interchangeably, as long as they share a common base or parent class.\n"
   ]
  },
  {
   "cell_type": "markdown",
   "id": "d45b52af",
   "metadata": {},
   "source": [
    "Create a `Circle` class and demonstrate polymorphism"
   ]
  },
  {
   "cell_type": "code",
   "execution_count": 5,
   "id": "864dac67",
   "metadata": {},
   "outputs": [
    {
     "name": "stdout",
     "output_type": "stream",
     "text": [
      "The area is: 15\n",
      "The area is: 50.26548245743669\n"
     ]
    }
   ],
   "source": [
    "import math\n",
    "\n",
    "class Shape:\n",
    "    def area(self):\n",
    "        pass\n",
    "\n",
    "class Rectangle(Shape):\n",
    "    def __init__(self, width, height):\n",
    "        self.width = width\n",
    "        self.height = height\n",
    "\n",
    "    def area(self):\n",
    "        return self.width * self.height\n",
    "\n",
    "class Circle(Shape):\n",
    "    def __init__(self, radius):\n",
    "        self.radius = radius\n",
    "\n",
    "    def area(self):\n",
    "        return math.pi * self.radius ** 2\n",
    "\n",
    "def print_area(shape):\n",
    "    print(f\"The area is: {shape.area()}\")\n",
    "\n",
    "# Test polymorphism\n",
    "rect = Rectangle(5, 3)\n",
    "circ = Circle(4)\n",
    "\n",
    "print_area(rect)\n",
    "print_area(circ)"
   ]
  },
  {
   "cell_type": "markdown",
   "id": "1dafcd7d",
   "metadata": {},
   "source": [
    "1. The `Shape class` is an abstract base class that defines the `area() method`, which doesn't have any implementation.\n",
    "2. The `Rectangle class` inherits from the `Shape class` and implements the `area() method` by calculating the area of a rectangle based on its width and height.\n",
    "3. The `Circle class` also inherits from the `Shape class` and implements the `area() method` by calculating the area of a circle based on its radius.\n",
    "4. The `print_area()` function takes a Shape object as an argument and calls its `area() method`, printing the result.\n",
    "5. In the test section, we create a Rectangle object and a Circle object, and then pass them to the print_area() function."
   ]
  },
  {
   "cell_type": "markdown",
   "id": "a3ccf175",
   "metadata": {},
   "source": [
    "## code explanation :\n",
    "1. The Shape Class:\n",
    "* This is the ``base or parent class.\n",
    "* It has an area() method, which is defined as pass, meaning it has no implementation.\n",
    "2. The Rectangle Class:\n",
    "* This is a `child class` that inherits from the Shape class.\n",
    "* It has an __init__() method that initializes the width and height attributes.\n",
    "* It overrides the area() method from the parent class, providing its own implementation to calculate the area of a rectangle.\n",
    "3. The Circle Class:\n",
    "* This is another `child class` that inherits from the Shape class.\n",
    "* It has an __init__() method that initializes the radius attribute.\n",
    "* It overrides the area() method from the parent class, providing its own implementation to calculate the area of a circle.\n",
    "4. The print_area() Function:\n",
    "* This function takes a shape object as an argument.\n",
    "* It calls the area() method on the shape object and prints the result.\n",
    "**Polymorphism in Action:**\n",
    "In the last part of the code, two objects are created: rect (a Rectangle object) and circ (a Circle object).\n",
    "Both objects are passed to the print_area() function.\n",
    "The print_area() function is able to work with both rect and circ objects, even though they are instances of different classes (Rectangle and Circle), because they both inherit from the common Shape class and provide their own implementation of the area() method."
   ]
  }
 ],
 "metadata": {
  "kernelspec": {
   "display_name": "Python 3 (ipykernel)",
   "language": "python",
   "name": "python3"
  },
  "language_info": {
   "codemirror_mode": {
    "name": "ipython",
    "version": 3
   },
   "file_extension": ".py",
   "mimetype": "text/x-python",
   "name": "python",
   "nbconvert_exporter": "python",
   "pygments_lexer": "ipython3",
   "version": "3.11.5"
  }
 },
 "nbformat": 4,
 "nbformat_minor": 5
}
