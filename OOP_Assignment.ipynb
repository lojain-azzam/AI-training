{
 "cells": [
  {
   "cell_type": "markdown",
   "id": "e32ac1cc",
   "metadata": {},
   "source": [
    "# OOP task\n"
   ]
  },
  {
   "cell_type": "markdown",
   "id": "70b9c090",
   "metadata": {},
   "source": [
    "### Creating a Simple Class\n",
    "Create a class called `Rectangle` that represents a rectangle shape. The class should have the following features:\n",
    "\n",
    "* Attributes for width and height\n",
    "* A method to calculate the area\n",
    "* A method to calculate the perimeter"
   ]
  },
  {
   "cell_type": "code",
   "execution_count": 2,
   "id": "8081d7e7",
   "metadata": {},
   "outputs": [
    {
     "name": "stdout",
     "output_type": "stream",
     "text": [
      "Area: 15\n",
      "Perimeter: 16\n"
     ]
    }
   ],
   "source": [
    "class Rectangle:\n",
    "\n",
    "    def __init__(self, width, height):\n",
    "        self.width = width\n",
    "        self.height = height\n",
    "\n",
    "    def calculate_area(self):\n",
    "        return self.width * self.height\n",
    "\n",
    "    def calculate_perimeter(self):\n",
    "        return 2 * (self.width + self.height)\n",
    "\n",
    "# Test your Rectangle class\n",
    "rect = Rectangle(5, 3)\n",
    "print(f\"Area: {rect.calculate_area()}\")\n",
    "print(f\"Perimeter: {rect.calculate_perimeter()}\")\n"
   ]
  },
  {
   "cell_type": "markdown",
   "id": "2ce9bac6",
   "metadata": {},
   "source": [
    "### Inheritance\n",
    "Create a `Square` class that inherits from the `Rectangle` class. The `Square` class should:\n",
    "\n",
    "* Have only one side length parameter in its constructor\n",
    "* Override the __init__ method to set both width and height to the same value"
   ]
  },
  {
   "cell_type": "code",
   "execution_count": 3,
   "id": "9d1a6fdd",
   "metadata": {},
   "outputs": [
    {
     "name": "stdout",
     "output_type": "stream",
     "text": [
      "Square Area: 16\n",
      "Square Perimeter: 16\n"
     ]
    }
   ],
   "source": [
    "class Square(Rectangle):\n",
    "    def __init__(self, side_length):\n",
    "        super().__init__(side_length, side_length)\n",
    "        pass\n",
    "\n",
    "# Test your Square class\n",
    "square = Square(4)\n",
    "print(f\"Square Area: {square.calculate_area()}\")\n",
    "print(f\"Square Perimeter: {square.calculate_perimeter()}\")"
   ]
  },
  {
   "cell_type": "markdown",
   "id": "f20b17f2",
   "metadata": {},
   "source": [
    "### Polymorphism\n",
    "Create a `Circle` class and demonstrate polymorphism"
   ]
  },
  {
   "cell_type": "code",
   "execution_count": 5,
   "id": "864dac67",
   "metadata": {},
   "outputs": [
    {
     "name": "stdout",
     "output_type": "stream",
     "text": [
      "The area is: 15\n",
      "The area is: 50.26548245743669\n"
     ]
    }
   ],
   "source": [
    "import math\n",
    "\n",
    "class Shape:\n",
    "    def area(self):\n",
    "        pass\n",
    "\n",
    "class Rectangle(Shape):\n",
    "    def __init__(self, width, height):\n",
    "        self.width = width\n",
    "        self.height = height\n",
    "\n",
    "    def area(self):\n",
    "        return self.width * self.height\n",
    "\n",
    "class Circle(Shape):\n",
    "    def __init__(self, radius):\n",
    "        self.radius = radius\n",
    "\n",
    "    def area(self):\n",
    "        return math.pi * self.radius ** 2\n",
    "\n",
    "def print_area(shape):\n",
    "    print(f\"The area is: {shape.area()}\")\n",
    "\n",
    "# Test polymorphism\n",
    "rect = Rectangle(5, 3)\n",
    "circ = Circle(4)\n",
    "\n",
    "print_area(rect)\n",
    "print_area(circ)"
   ]
  },
  {
   "cell_type": "markdown",
   "id": "1dafcd7d",
   "metadata": {},
   "source": [
    "1. The `Shape class` is an abstract base class that defines the `area() method`, which doesn't have any implementation.\n",
    "2. The `Rectangle class` inherits from the `Shape class` and implements the `area() method` by calculating the area of a rectangle based on its width and height.\n",
    "3. The `Circle class` also inherits from the `Shape class` and implements the `area() method` by calculating the area of a circle based on its radius.\n",
    "4. The `print_area()` function takes a Shape object as an argument and calls its `area() method`, printing the result.\n",
    "5. In the test section, we create a Rectangle object and a Circle object, and then pass them to the print_area() function."
   ]
  },
  {
   "cell_type": "code",
   "execution_count": null,
   "id": "f18cf73d",
   "metadata": {},
   "outputs": [],
   "source": []
  }
 ],
 "metadata": {
  "kernelspec": {
   "display_name": "Python 3 (ipykernel)",
   "language": "python",
   "name": "python3"
  },
  "language_info": {
   "codemirror_mode": {
    "name": "ipython",
    "version": 3
   },
   "file_extension": ".py",
   "mimetype": "text/x-python",
   "name": "python",
   "nbconvert_exporter": "python",
   "pygments_lexer": "ipython3",
   "version": "3.11.5"
  }
 },
 "nbformat": 4,
 "nbformat_minor": 5
}
