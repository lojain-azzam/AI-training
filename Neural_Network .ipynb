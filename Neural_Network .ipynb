{
 "cells": [
  {
   "cell_type": "markdown",
   "id": "7941b29c",
   "metadata": {},
   "source": [
    "## PyTorch & Neural Network \n",
    "* **PyTorch**: is a popular open-source machine learning framework primarily used for building and training neural networks.\n",
    "* **neural network** is a powerful machine learning model that learns to perform a task by adjusting the strengths of the connections between its neurons, allowing it to capture complex patterns in data and make accurate predictions or classifications."
   ]
  },
  {
   "cell_type": "markdown",
   "id": "18ff00a8",
   "metadata": {},
   "source": [
    "The key steps are:\n",
    "\n",
    "1. Download Prepare the data\n",
    "2. Define the model architecture\n",
    "3. Train the model\n",
    "4. Save the trained model\n",
    "5. Evaluate the model on the test set\n",
    "6. Visualize the model predictions\n",
    "\n",
    "\n",
    "CNN Part :\n",
    "\n",
    "\n",
    "1. Define the CNN Model:\n",
    "2. CNN architecture for the MNIST dataset\n",
    "3. Create the Model, Loss Function, and Optimizer\n",
    "4. Train CNN model on the MNIST dataset\n",
    "5. Training the CNN model, evaluate its performance on the test dataset\n",
    "6. Plot The Results"
   ]
  },
  {
   "cell_type": "code",
   "execution_count": 49,
   "id": "bac1dce9",
   "metadata": {},
   "outputs": [],
   "source": [
    "import torch\n",
    "import torch.nn as nn\n",
    "import matplotlib.pyplot as plt\n",
    "import torchvision\n",
    "from torchvision import datasets, transforms\n",
    "import numpy as np\n",
    "import torch.nn.functional as F\n",
    "import torch.optim as optim\n",
    "import seaborn as sns\n",
    "\n"
   ]
  },
  {
   "cell_type": "markdown",
   "id": "25288041",
   "metadata": {},
   "source": [
    "### Download and Prepare the MNIST Dataset"
   ]
  },
  {
   "cell_type": "code",
   "execution_count": 50,
   "id": "839937c1",
   "metadata": {},
   "outputs": [],
   "source": [
    "\n",
    "# Download and preprocess the MNIST dataset\n",
    "transform = transforms.Compose([\n",
    "    transforms.ToTensor(),\n",
    "    transforms.Normalize((0.1307,), (0.3081,))\n",
    "])\n",
    "\n",
    "train_dataset = datasets.MNIST(root='./data', train=True, download=True, transform=transform)\n",
    "test_dataset = datasets.MNIST(root='./data', train=False, download=True, transform=transform)\n",
    "\n",
    "train_loader = torch.utils.data.DataLoader(train_dataset, batch_size=64, shuffle=True)\n",
    "test_loader = torch.utils.data.DataLoader(test_dataset, batch_size=64, shuffle=False)"
   ]
  },
  {
   "cell_type": "markdown",
   "id": "615e17aa",
   "metadata": {},
   "source": [
    "The `MNIST dataset` is a popular dataset for handwritten digit recognition, commonly used in machine learning and computer vision tasks. It consists of a large collection of grayscale images of handwritten digits `(0-9`) and their corresponding labels.\n",
    "\n",
    "The `MNIST dataset` has the following characteristics:\n",
    "\n",
    "* Size: The MNIST dataset contains a total of 70,000 images, split into 60,000 training images and 10,000 test images.\n",
    "* Image Size: Each image in the MNIST dataset is a 28x28 pixel grayscale image.\n",
    "* Labels: Each image is labeled with the digit it represents (0-9)."
   ]
  },
  {
   "cell_type": "markdown",
   "id": "04fdeeac",
   "metadata": {},
   "source": [
    "### Visualize Sample"
   ]
  },
  {
   "cell_type": "code",
   "execution_count": 51,
   "id": "d2fac2e8",
   "metadata": {},
   "outputs": [
    {
     "data": {
      "image/png": "[encoded data removed]",
      "text/plain": [
       "<Figure size 1200x400 with 16 Axes>"
      ]
     },
     "metadata": {},
     "output_type": "display_data"
    }
   ],
   "source": [
    "\n",
    "# Get a batch of training data\n",
    "dataiter = iter(train_loader)\n",
    "images, labels = next(dataiter)\n",
    "\n",
    "# Show the first 16 images\n",
    "fig = plt.figure(figsize=(12, 4))\n",
    "for i in range(16):\n",
    "    ax = fig.add_subplot(2, 8, i + 1, xticks=[], yticks=[])\n",
    "    ax.imshow(images[i].squeeze(), cmap='gray')\n",
    "    ax.set_title(str(labels[i].item()))\n",
    "plt.show()"
   ]
  },
  {
   "cell_type": "markdown",
   "id": "f1ca8ccd",
   "metadata": {},
   "source": [
    "###  Define the Neural Network Model"
   ]
  },
  {
   "cell_type": "code",
   "execution_count": 52,
   "id": "d9152227",
   "metadata": {},
   "outputs": [],
   "source": [
    "class MnistNet(nn.Module):\n",
    "    def __init__(self):\n",
    "        super(MnistNet, self).__init__()\n",
    "        self.fc1 = nn.Linear(28 * 28, 512)\n",
    "        self.fc2 = nn.Linear(512, 256)\n",
    "        self.fc3 = nn.Linear(256, 10)\n",
    "\n",
    "    def forward(self, x):\n",
    "        x = x.view(-1, 28 * 28)\n",
    "        x = F.relu(self.fc1(x))\n",
    "        x = F.relu(self.fc2(x))\n",
    "        x = self.fc3(x)\n",
    "        return x"
   ]
  },
  {
   "cell_type": "markdown",
   "id": "3a04fbcf",
   "metadata": {},
   "source": [
    "### Train The Model:\n"
   ]
  },
  {
   "cell_type": "code",
   "execution_count": 53,
   "id": "7858663b",
   "metadata": {},
   "outputs": [
    {
     "name": "stdout",
     "output_type": "stream",
     "text": [
      "[Epoch 1, Batch 100] Loss: 0.555\n",
      "[Epoch 1, Batch 200] Loss: 0.270\n",
      "[Epoch 1, Batch 300] Loss: 0.207\n",
      "[Epoch 1, Batch 400] Loss: 0.176\n",
      "[Epoch 1, Batch 500] Loss: 0.154\n",
      "[Epoch 1, Batch 600] Loss: 0.152\n",
      "[Epoch 1, Batch 700] Loss: 0.124\n",
      "[Epoch 1, Batch 800] Loss: 0.115\n",
      "[Epoch 1, Batch 900] Loss: 0.121\n",
      "[Epoch 2, Batch 100] Loss: 0.102\n",
      "[Epoch 2, Batch 200] Loss: 0.078\n",
      "[Epoch 2, Batch 300] Loss: 0.089\n",
      "[Epoch 2, Batch 400] Loss: 0.084\n",
      "[Epoch 2, Batch 500] Loss: 0.089\n",
      "[Epoch 2, Batch 600] Loss: 0.083\n",
      "[Epoch 2, Batch 700] Loss: 0.085\n",
      "[Epoch 2, Batch 800] Loss: 0.086\n",
      "[Epoch 2, Batch 900] Loss: 0.079\n",
      "[Epoch 3, Batch 100] Loss: 0.056\n",
      "[Epoch 3, Batch 200] Loss: 0.058\n",
      "[Epoch 3, Batch 300] Loss: 0.045\n",
      "[Epoch 3, Batch 400] Loss: 0.065\n",
      "[Epoch 3, Batch 500] Loss: 0.059\n",
      "[Epoch 3, Batch 600] Loss: 0.059\n",
      "[Epoch 3, Batch 700] Loss: 0.064\n",
      "[Epoch 3, Batch 800] Loss: 0.063\n",
      "[Epoch 3, Batch 900] Loss: 0.072\n",
      "[Epoch 4, Batch 100] Loss: 0.038\n",
      "[Epoch 4, Batch 200] Loss: 0.034\n",
      "[Epoch 4, Batch 300] Loss: 0.038\n",
      "[Epoch 4, Batch 400] Loss: 0.047\n",
      "[Epoch 4, Batch 500] Loss: 0.044\n",
      "[Epoch 4, Batch 600] Loss: 0.050\n",
      "[Epoch 4, Batch 700] Loss: 0.050\n",
      "[Epoch 4, Batch 800] Loss: 0.044\n",
      "[Epoch 4, Batch 900] Loss: 0.054\n",
      "[Epoch 5, Batch 100] Loss: 0.035\n",
      "[Epoch 5, Batch 200] Loss: 0.028\n",
      "[Epoch 5, Batch 300] Loss: 0.037\n",
      "[Epoch 5, Batch 400] Loss: 0.039\n",
      "[Epoch 5, Batch 500] Loss: 0.038\n",
      "[Epoch 5, Batch 600] Loss: 0.038\n",
      "[Epoch 5, Batch 700] Loss: 0.046\n",
      "[Epoch 5, Batch 800] Loss: 0.040\n",
      "[Epoch 5, Batch 900] Loss: 0.040\n",
      "[Epoch 6, Batch 100] Loss: 0.033\n",
      "[Epoch 6, Batch 200] Loss: 0.025\n",
      "[Epoch 6, Batch 300] Loss: 0.032\n",
      "[Epoch 6, Batch 400] Loss: 0.038\n",
      "[Epoch 6, Batch 500] Loss: 0.024\n",
      "[Epoch 6, Batch 600] Loss: 0.030\n",
      "[Epoch 6, Batch 700] Loss: 0.031\n",
      "[Epoch 6, Batch 800] Loss: 0.031\n",
      "[Epoch 6, Batch 900] Loss: 0.042\n",
      "[Epoch 7, Batch 100] Loss: 0.028\n",
      "[Epoch 7, Batch 200] Loss: 0.021\n",
      "[Epoch 7, Batch 300] Loss: 0.015\n",
      "[Epoch 7, Batch 400] Loss: 0.026\n",
      "[Epoch 7, Batch 500] Loss: 0.035\n",
      "[Epoch 7, Batch 600] Loss: 0.028\n",
      "[Epoch 7, Batch 700] Loss: 0.032\n",
      "[Epoch 7, Batch 800] Loss: 0.040\n",
      "[Epoch 7, Batch 900] Loss: 0.029\n",
      "[Epoch 8, Batch 100] Loss: 0.021\n",
      "[Epoch 8, Batch 200] Loss: 0.022\n",
      "[Epoch 8, Batch 300] Loss: 0.022\n",
      "[Epoch 8, Batch 400] Loss: 0.020\n",
      "[Epoch 8, Batch 500] Loss: 0.024\n",
      "[Epoch 8, Batch 600] Loss: 0.020\n",
      "[Epoch 8, Batch 700] Loss: 0.021\n",
      "[Epoch 8, Batch 800] Loss: 0.019\n",
      "[Epoch 8, Batch 900] Loss: 0.035\n",
      "[Epoch 9, Batch 100] Loss: 0.010\n",
      "[Epoch 9, Batch 200] Loss: 0.020\n",
      "[Epoch 9, Batch 300] Loss: 0.022\n",
      "[Epoch 9, Batch 400] Loss: 0.020\n",
      "[Epoch 9, Batch 500] Loss: 0.029\n",
      "[Epoch 9, Batch 600] Loss: 0.033\n",
      "[Epoch 9, Batch 700] Loss: 0.022\n",
      "[Epoch 9, Batch 800] Loss: 0.028\n",
      "[Epoch 9, Batch 900] Loss: 0.023\n",
      "[Epoch 10, Batch 100] Loss: 0.022\n",
      "[Epoch 10, Batch 200] Loss: 0.020\n",
      "[Epoch 10, Batch 300] Loss: 0.014\n",
      "[Epoch 10, Batch 400] Loss: 0.018\n",
      "[Epoch 10, Batch 500] Loss: 0.014\n",
      "[Epoch 10, Batch 600] Loss: 0.017\n",
      "[Epoch 10, Batch 700] Loss: 0.022\n",
      "[Epoch 10, Batch 800] Loss: 0.023\n",
      "[Epoch 10, Batch 900] Loss: 0.023\n",
      "Finished Training\n"
     ]
    }
   ],
   "source": [
    "import torch.optim as optim\n",
    "\n",
    "model = MnistNet()\n",
    "criterion = nn.CrossEntropyLoss()\n",
    "optimizer = optim.Adam(model.parameters(), lr=0.001)\n",
    "\n",
    "num_epochs = 10\n",
    "\n",
    "for epoch in range(num_epochs):\n",
    "    running_loss = 0.0\n",
    "    for i, (inputs, labels) in enumerate(train_loader, 0):\n",
    "        optimizer.zero_grad()\n",
    "        outputs = model(inputs)\n",
    "        loss = criterion(outputs, labels)\n",
    "        loss.backward()\n",
    "        optimizer.step()\n",
    "\n",
    "        running_loss += loss.item()\n",
    "        if i % 100 == 99:\n",
    "            print(f'[Epoch {epoch + 1}, Batch {i + 1}] Loss: {running_loss / 100:.3f}')\n",
    "            running_loss = 0.0\n",
    "\n",
    "            \n",
    "print('Finished Training')\n",
    "\n",
    "# Save the trained model\n",
    "torch.save(model.state_dict(), 'model.pth')"
   ]
  },
  {
   "cell_type": "markdown",
   "id": "b44f2060",
   "metadata": {},
   "source": [
    "### Evaluate model\n"
   ]
  },
  {
   "cell_type": "code",
   "execution_count": 54,
   "id": "2f2e45f7",
   "metadata": {},
   "outputs": [
    {
     "name": "stdout",
     "output_type": "stream",
     "text": [
      "Accuracy of the network on the 10000 test images: 97%\n"
     ]
    }
   ],
   "source": [
    "correct = 0\n",
    "total = 0\n",
    "with torch.no_grad():\n",
    "    for data in test_loader:\n",
    "        images, labels = data\n",
    "        outputs = model(images)\n",
    "        _, predicted = torch.max(outputs.data, 1)\n",
    "        total += labels.size(0)\n",
    "        correct += (predicted == labels).sum().item()\n",
    "\n",
    "print(f'Accuracy of the network on the 10000 test images: {100 * correct // total}%')\n",
    "\n"
   ]
  },
  {
   "cell_type": "markdown",
   "id": "e62d0f22",
   "metadata": {},
   "source": [
    "### Visualize Results"
   ]
  },
  {
   "cell_type": "code",
   "execution_count": 55,
   "id": "33544cb8",
   "metadata": {},
   "outputs": [
    {
     "data": {
      "image/png": "[encoded data removed]",
      "text/plain": [
       "<Figure size 1200x1000 with 9 Axes>"
      ]
     },
     "metadata": {},
     "output_type": "display_data"
    }
   ],
   "source": [
    "# Visualize the model predictions\n",
    "dataiter = iter(test_loader)\n",
    "images, labels = next(dataiter)\n",
    "\n",
    "with torch.no_grad():\n",
    "    outputs = model(images)\n",
    "    _, predicted = torch.max(outputs, 1)\n",
    "\n",
    "# Set seaborn style\n",
    "sns.set(style=\"whitegrid\")\n",
    "\n",
    "# Create a figure with subplots\n",
    "fig, ax = plt.subplots(3, 3, figsize=(12, 10))\n",
    "\n",
    "# Plot the first 9 images and their predictions\n",
    "for i in range(9):\n",
    "    ax[i // 3, i % 3].imshow(images[i].squeeze(), cmap='gray')\n",
    "    ax[i // 3, i % 3].set_title(f\"Predicted: {predicted[i]}, Actual: {labels[i]}\")\n",
    "    ax[i // 3, i % 3].axis('off')\n",
    "\n",
    "plt.suptitle('Model Predictions vs. Actual Labels')\n",
    "plt.show()"
   ]
  },
  {
   "cell_type": "markdown",
   "id": "4582ea3f",
   "metadata": {},
   "source": [
    "## Applying Convolutional Neural Network on MNIST dataset\n",
    "`CNN` is a model known to be a `Convolutional Neural Network` and in recent times it has gained a lot of popularity because of its usefulness. CNN uses multilayer perceptrons to do computational work. CNN uses relatively little pre-processing compared to other image classification algorithms. This means the network learns through filters that in traditional algorithms were hand-engineered. So, for the image processing tasks, CNNs are the best-suited option.\n",
    "Applying a Convolutional Neural Network (CNN) on the MNIST dataset is a popular way to learn about and demonstrate the capabilities of CNNs for image classification tasks. The MNIST dataset consists of 28×28 grayscale images of hand-written digits (0-9), with a training set of 60,000 examples and a test set of 10,000 examples.\n",
    "\n",
    "\n",
    "#### **Here is a basic approach to applying a CNN on the MNIST dataset using the Python programming language and the Keras library:**\n"
   ]
  },
  {
   "cell_type": "markdown",
   "id": "1a09e9c0",
   "metadata": {},
   "source": [
    "### include all necessary libraries"
   ]
  },
  {
   "cell_type": "code",
   "execution_count": 88,
   "id": "f83d7655",
   "metadata": {},
   "outputs": [
    {
     "name": "stderr",
     "output_type": "stream",
     "text": [
      "2024-08-14 23:33:15.917384: I tensorflow/core/platform/cpu_feature_guard.cc:210] This TensorFlow binary is optimized to use available CPU instructions in performance-critical operations.\n",
      "To enable the following instructions: AVX2 FMA, in other operations, rebuild TensorFlow with the appropriate compiler flags.\n"
     ]
    }
   ],
   "source": [
    "import numpy as np\n",
    "import keras \n",
    "from keras.datasets import mnist\n",
    "from keras.models import Model\n",
    "from keras.layers import Dense, Input\n",
    "from keras.layers import Conv2D, MaxPooling2D, Dropout, Flatten\n",
    "from keras import backend as k\n"
   ]
  },
  {
   "cell_type": "code",
   "execution_count": 89,
   "id": "bf5e079a",
   "metadata": {},
   "outputs": [
    {
     "name": "stdout",
     "output_type": "stream",
     "text": [
      "Downloading data from https://storage.googleapis.com/tensorflow/tf-keras-datasets/mnist.npz\n",
      "\u001b[1m11490434/11490434\u001b[0m \u001b[32m━━━━━━━━━━━━━━━━━━━━\u001b[0m\u001b[37m\u001b[0m \u001b[1m4s\u001b[0m 0us/step\n"
     ]
    }
   ],
   "source": [
    "(x_train, y_train), (x_test, y_test) = mnist.load_data()\n"
   ]
  },
  {
   "cell_type": "markdown",
   "id": "185fc318",
   "metadata": {},
   "source": [
    "1. Load and preprocess the data: The MNIST dataset can be loaded using the Keras library, and the images can be normalized to have pixel values between 0 and 1"
   ]
  },
  {
   "cell_type": "code",
   "execution_count": 90,
   "id": "90501920",
   "metadata": {},
   "outputs": [],
   "source": [
    "img_rows, img_cols=28, 28\n",
    "\n",
    "if k.image_data_format() == 'channels_first':\n",
    "   x_train = x_train.reshape(x_train.shape[0], 1, img_rows, img_cols)\n",
    "   x_test = x_test.reshape(x_test.shape[0], 1, img_rows, img_cols)\n",
    "   inpx = (1, img_rows, img_cols)\n",
    "\n",
    "else:\n",
    "   x_train = x_train.reshape(x_train.shape[0], img_rows, img_cols, 1)\n",
    "   x_test = x_test.reshape(x_test.shape[0], img_rows, img_cols, 1)\n",
    "   inpx = (img_rows, img_cols, 1)\n",
    "\n",
    "x_train = x_train.astype('float32')\n",
    "x_test = x_test.astype('float32')\n",
    "x_train /= 255\n",
    "x_test /= 255\n"
   ]
  },
  {
   "cell_type": "markdown",
   "id": "a5f88fcc",
   "metadata": {},
   "source": [
    "## Create the train data and test data\n",
    "* Test data: Used for testing the model that how our model has been trained. \n",
    "* Train data: Used to train our model."
   ]
  },
  {
   "cell_type": "code",
   "execution_count": 91,
   "id": "bb234c00",
   "metadata": {},
   "outputs": [],
   "source": [
    "y_train = keras.utils.to_categorical(y_train)\n",
    "y_test = keras.utils.to_categorical(y_test)\n"
   ]
  },
  {
   "cell_type": "markdown",
   "id": "50fd6723",
   "metadata": {},
   "source": [
    "2. Define the model architecture: The CNN can be constructed using the Keras Sequential API, which allows for easy building of sequential models layer-by-layer. The architecture should typically include convolutional layers, pooling layers, and fully-connected layers."
   ]
  },
  {
   "cell_type": "code",
   "execution_count": 92,
   "id": "3e5ad766",
   "metadata": {},
   "outputs": [],
   "source": [
    "inpx = Input(shape=inpx)\n",
    "layer1 = Conv2D(32, kernel_size=(3, 3), activation='relu')(inpx)\n",
    "layer2 = Conv2D(64, (3, 3), activation='relu')(layer1)\n",
    "layer3 = MaxPooling2D(pool_size=(3, 3))(layer2)\n",
    "layer4 = Dropout(0.5)(layer3)\n",
    "layer5 = Flatten()(layer4)\n",
    "layer6 = Dense(250, activation='sigmoid')(layer5)\n",
    "layer7 = Dense(10, activation='softmax')(layer6)\n"
   ]
  },
  {
   "cell_type": "markdown",
   "id": "645288bf",
   "metadata": {},
   "source": [
    "### Explanation of the working of each layer in the CNN model:\n",
    "* layer1 is the Conv2d layer which convolves the image using 32 filters each of size (3*3). \n",
    "* layer2 is again a Conv2D layer which is also used to convolve the image and is using 64 filters each of size (3*3). \n",
    "* layer3 is the MaxPooling2D layer which picks the max value out of a matrix of size (3*3). \n",
    "* layer4 is showing Dropout at a rate of 0.5. \n",
    "* layer5 is flattening the output obtained from layer4 and this flattens output is passed to layer6. \n",
    "* layer6 is a hidden layer of a neural network containing 250 neurons. \n",
    "* layer7 is the output layer having 10 neurons for 10 classes of output that is using the softmax function."
   ]
  },
  {
   "cell_type": "markdown",
   "id": "d2792244",
   "metadata": {},
   "source": [
    "3. Compile the model: The model needs to be compiled with a loss function, an optimizer, and a metric for evaluation.\n",
    "\n",
    "\n",
    "4. Train the model: The model can be trained on the training set using the Keras fit() function. It is important to monitor the training accuracy and loss to ensure the model is converging properly."
   ]
  },
  {
   "cell_type": "code",
   "execution_count": 93,
   "id": "be0a7ef1",
   "metadata": {},
   "outputs": [
    {
     "name": "stdout",
     "output_type": "stream",
     "text": [
      "Epoch 1/12\n",
      "\u001b[1m120/120\u001b[0m \u001b[32m━━━━━━━━━━━━━━━━━━━━\u001b[0m\u001b[37m\u001b[0m \u001b[1m52s\u001b[0m 425ms/step - accuracy: 0.1010 - loss: 2.4707\n",
      "Epoch 2/12\n",
      "\u001b[1m120/120\u001b[0m \u001b[32m━━━━━━━━━━━━━━━━━━━━\u001b[0m\u001b[37m\u001b[0m \u001b[1m53s\u001b[0m 444ms/step - accuracy: 0.1024 - loss: 2.4572\n",
      "Epoch 3/12\n",
      "\u001b[1m120/120\u001b[0m \u001b[32m━━━━━━━━━━━━━━━━━━━━\u001b[0m\u001b[37m\u001b[0m \u001b[1m52s\u001b[0m 431ms/step - accuracy: 0.1027 - loss: 2.4394\n",
      "Epoch 4/12\n",
      "\u001b[1m120/120\u001b[0m \u001b[32m━━━━━━━━━━━━━━━━━━━━\u001b[0m\u001b[37m\u001b[0m \u001b[1m47s\u001b[0m 392ms/step - accuracy: 0.1026 - loss: 2.4306\n",
      "Epoch 5/12\n",
      "\u001b[1m120/120\u001b[0m \u001b[32m━━━━━━━━━━━━━━━━━━━━\u001b[0m\u001b[37m\u001b[0m \u001b[1m44s\u001b[0m 365ms/step - accuracy: 0.1017 - loss: 2.4167\n",
      "Epoch 6/12\n",
      "\u001b[1m120/120\u001b[0m \u001b[32m━━━━━━━━━━━━━━━━━━━━\u001b[0m\u001b[37m\u001b[0m \u001b[1m44s\u001b[0m 365ms/step - accuracy: 0.0998 - loss: 2.4060\n",
      "Epoch 7/12\n",
      "\u001b[1m120/120\u001b[0m \u001b[32m━━━━━━━━━━━━━━━━━━━━\u001b[0m\u001b[37m\u001b[0m \u001b[1m44s\u001b[0m 366ms/step - accuracy: 0.1025 - loss: 2.3906\n",
      "Epoch 8/12\n",
      "\u001b[1m120/120\u001b[0m \u001b[32m━━━━━━━━━━━━━━━━━━━━\u001b[0m\u001b[37m\u001b[0m \u001b[1m45s\u001b[0m 373ms/step - accuracy: 0.1003 - loss: 2.3812\n",
      "Epoch 9/12\n",
      "\u001b[1m120/120\u001b[0m \u001b[32m━━━━━━━━━━━━━━━━━━━━\u001b[0m\u001b[37m\u001b[0m \u001b[1m44s\u001b[0m 370ms/step - accuracy: 0.1041 - loss: 2.3656\n",
      "Epoch 10/12\n",
      "\u001b[1m120/120\u001b[0m \u001b[32m━━━━━━━━━━━━━━━━━━━━\u001b[0m\u001b[37m\u001b[0m \u001b[1m44s\u001b[0m 366ms/step - accuracy: 0.1013 - loss: 2.3586\n",
      "Epoch 11/12\n",
      "\u001b[1m120/120\u001b[0m \u001b[32m━━━━━━━━━━━━━━━━━━━━\u001b[0m\u001b[37m\u001b[0m \u001b[1m44s\u001b[0m 365ms/step - accuracy: 0.1027 - loss: 2.3472\n",
      "Epoch 12/12\n",
      "\u001b[1m120/120\u001b[0m \u001b[32m━━━━━━━━━━━━━━━━━━━━\u001b[0m\u001b[37m\u001b[0m \u001b[1m44s\u001b[0m 364ms/step - accuracy: 0.1041 - loss: 2.3353\n"
     ]
    },
    {
     "data": {
      "text/plain": [
       "<keras.src.callbacks.history.History at 0x16cfb0290>"
      ]
     },
     "execution_count": 93,
     "metadata": {},
     "output_type": "execute_result"
    }
   ],
   "source": [
    "model = Model([inpx], layer7)\n",
    "model.compile(optimizer=keras.optimizers.Adadelta(),\n",
    "              loss=keras.losses.categorical_crossentropy,\n",
    "              metrics=['accuracy'])\n",
    "\n",
    "model.fit(x_train, y_train, epochs=12, batch_size=500)\n"
   ]
  },
  {
   "cell_type": "markdown",
   "id": "005afa3e",
   "metadata": {},
   "source": [
    "5. Evaluate the model: The trained model can be evaluated on the test set using the Keras evaluate() function. The evaluation metric typically used for classification tasks is accuracy."
   ]
  },
  {
   "cell_type": "code",
   "execution_count": 94,
   "id": "c385c858",
   "metadata": {},
   "outputs": [
    {
     "name": "stdout",
     "output_type": "stream",
     "text": [
      "loss= 2.32639479637146\n",
      "accuracy= 0.10100000351667404\n"
     ]
    }
   ],
   "source": [
    "score = model.evaluate(x_test, y_test, verbose=0)\n",
    "print('loss=', score[0])\n",
    "print('accuracy=', score[1])\n"
   ]
  }
 ],
 "metadata": {
  "kernelspec": {
   "display_name": "Python 3 (ipykernel)",
   "language": "python",
   "name": "python3"
  },
  "language_info": {
   "codemirror_mode": {
    "name": "ipython",
    "version": 3
   },
   "file_extension": ".py",
   "mimetype": "text/x-python",
   "name": "python",
   "nbconvert_exporter": "python",
   "pygments_lexer": "ipython3",
   "version": "3.11.5"
  }
 },
 "nbformat": 4,
 "nbformat_minor": 5
}
