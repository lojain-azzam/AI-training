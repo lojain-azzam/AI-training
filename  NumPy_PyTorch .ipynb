{
 "cells": [
  {
   "cell_type": "markdown",
   "id": "55444744",
   "metadata": {},
   "source": [
    "## Optional Assignment: Advanced NumPy and PyTorch Operations with MNIST\n",
    "**Description:**\n",
    "\n",
    "This optional assignment is designed to enhance your skills in NumPy and PyTorch, focusing on tensor operations using the MNIST dataset. By completing this assignment, you'll gain hands-on experience with advanced tensor manipulations, data preprocessing, and visualization techniques commonly used in deep learning projects.\n",
    "\n",
    "**Objectives:**\n",
    "\n",
    "* Practice tensor operations in PyTorch\n",
    "* Explore data manipulation techniques with the MNIST dataset\n",
    "* Gain experience in converting between NumPy arrays and PyTorch tensors\n",
    "* Enhance your understanding of tensor shapes and dimensions\n"
   ]
  },
  {
   "cell_type": "markdown",
   "id": "081bb3e0",
   "metadata": {},
   "source": [
    "# Intro about PyTorch\n",
    "PyTorch is an open-source machine learning library for Python that is primarily used for building and training deep neural networks. It was developed by the AI research group at Facebook's AI Research lab (FAIR) and is now widely used in the machine learning and deep learning community.\n",
    "\n",
    "PyTorch is a powerful and flexible deep learning framework that has gained significant popularity in the machine learning community. Its dynamic computational graphs, ease of use, and strong support for research and production make it a compelling choice for a wide range of machine learning applications.\n",
    "* The MNIST (Modified National Institute of Standards and Technology) dataset is a widely-used dataset in the field of machine learning and computer vision."
   ]
  },
  {
   "cell_type": "code",
   "execution_count": 2,
   "id": "fb0a043c",
   "metadata": {},
   "outputs": [
    {
     "name": "stdout",
     "output_type": "stream",
     "text": [
      "Random NumPy array:\n",
      "[[0.37171562 0.04387089 0.18931101 0.52209766]\n",
      " [0.76461263 0.62944699 0.12433386 0.46762562]\n",
      " [0.1746179  0.89755662 0.28484194 0.74498981]]\n",
      "\n",
      "Random PyTorch tensor:\n",
      "tensor([[0.7600, 0.7793, 0.0824, 0.3593],\n",
      "        [0.5749, 0.2444, 0.8434, 0.6854],\n",
      "        [0.3369, 0.4355, 0.5861, 0.6489]])\n"
     ]
    }
   ],
   "source": [
    "# NumPy and PyTorch Tensor Operations Assignment\n",
    "\n",
    "import numpy as np\n",
    "import torch\n",
    "import matplotlib.pyplot as plt\n",
    "from torchvision import datasets, transforms\n",
    "\n",
    "# Create a random NumPy array\n",
    "np_random = np.random.rand(3, 4)\n",
    "print(\"Random NumPy array:\")\n",
    "print(np_random)\n",
    "\n",
    "# Create a random PyTorch tensor\n",
    "torch_random = torch.rand(3, 4)\n",
    "print(\"\\nRandom PyTorch tensor:\")\n",
    "print(torch_random)\n",
    "\n"
   ]
  },
  {
   "cell_type": "code",
   "execution_count": 3,
   "id": "02ece368",
   "metadata": {},
   "outputs": [
    {
     "name": "stdout",
     "output_type": "stream",
     "text": [
      "Reshaped NumPy array:\n",
      "[[0.37171562 0.04387089 0.18931101 0.52209766 0.76461263 0.62944699]\n",
      " [0.12433386 0.46762562 0.1746179  0.89755662 0.28484194 0.74498981]]\n",
      "\n",
      "Reshaped PyTorch tensor:\n",
      "tensor([[0.7600, 0.7793, 0.0824, 0.3593, 0.5749, 0.2444],\n",
      "        [0.8434, 0.6854, 0.3369, 0.4355, 0.5861, 0.6489]])\n"
     ]
    }
   ],
   "source": [
    "#  Reshaping\n",
    "# Reshape NumPy array\n",
    "np_reshaped = np_random.reshape(2, 6)\n",
    "print(\"Reshaped NumPy array:\")\n",
    "print(np_reshaped)\n",
    "\n",
    "# Reshape PyTorch tensor\n",
    "torch_reshaped = torch_random.reshape(2, 6)\n",
    "print(\"\\nReshaped PyTorch tensor:\")\n",
    "print(torch_reshaped)"
   ]
  },
  {
   "cell_type": "code",
   "execution_count": 4,
   "id": "1df42006",
   "metadata": {},
   "outputs": [
    {
     "name": "stdout",
     "output_type": "stream",
     "text": [
      "NumPy array multiplication:\n",
      "[[0.74343124 0.08774178 0.37862203 1.04419531]\n",
      " [1.52922525 1.25889398 0.24866772 0.93525123]\n",
      " [0.34923579 1.79511324 0.56968388 1.48997962]]\n",
      "\n",
      "PyTorch tensor multiplication:\n",
      "tensor([[1.5201, 1.5587, 0.1648, 0.7187],\n",
      "        [1.1498, 0.4888, 1.6868, 1.3707],\n",
      "        [0.6739, 0.8710, 1.1723, 1.2978]])\n"
     ]
    }
   ],
   "source": [
    "# NumPy array multiplication\n",
    "np_mult = np.multiply(np_random, 2)\n",
    "print(\"NumPy array multiplication:\")\n",
    "print(np_mult)\n",
    "\n",
    "# PyTorch tensor multiplication\n",
    "torch_mult = torch.mul(torch_random, 2)\n",
    "print(\"\\nPyTorch tensor multiplication:\")\n",
    "print(torch_mult)"
   ]
  },
  {
   "cell_type": "code",
   "execution_count": 5,
   "id": "5db3ec11",
   "metadata": {},
   "outputs": [
    {
     "name": "stdout",
     "output_type": "stream",
     "text": [
      "Permuted NumPy array:\n",
      "[[0.37171562 0.76461263 0.1746179 ]\n",
      " [0.04387089 0.62944699 0.89755662]\n",
      " [0.18931101 0.12433386 0.28484194]\n",
      " [0.52209766 0.46762562 0.74498981]]\n",
      "\n",
      "Permuted PyTorch tensor:\n",
      "tensor([[0.7600, 0.5749, 0.3369],\n",
      "        [0.7793, 0.2444, 0.4355],\n",
      "        [0.0824, 0.8434, 0.5861],\n",
      "        [0.3593, 0.6854, 0.6489]])\n"
     ]
    }
   ],
   "source": [
    "#  Permute shape\n",
    "# Permute NumPy array\n",
    "np_permuted = np.transpose(np_random, (1, 0))\n",
    "print(\"Permuted NumPy array:\")\n",
    "print(np_permuted)\n",
    "\n",
    "# Permute PyTorch tensor\n",
    "torch_permuted = torch_random.permute(1, 0)\n",
    "print(\"\\nPermuted PyTorch tensor:\")\n",
    "print(torch_permuted)\n"
   ]
  },
  {
   "cell_type": "code",
   "execution_count": 6,
   "id": "29b70b86",
   "metadata": {},
   "outputs": [
    {
     "name": "stdout",
     "output_type": "stream",
     "text": [
      "NumPy to PyTorch:\n",
      "tensor([[0.3717, 0.0439, 0.1893, 0.5221],\n",
      "        [0.7646, 0.6294, 0.1243, 0.4676],\n",
      "        [0.1746, 0.8976, 0.2848, 0.7450]], dtype=torch.float64)\n",
      "\n",
      "PyTorch to NumPy:\n",
      "[[0.7600362  0.7793435  0.08240658 0.3593309 ]\n",
      " [0.57487506 0.24438035 0.84340537 0.6853526 ]\n",
      " [0.3369345  0.43551874 0.5861282  0.6488763 ]]\n"
     ]
    }
   ],
   "source": [
    "# Convert between NumPy and PyTorch\n",
    "# NumPy to PyTorch\n",
    "np_to_torch = torch.from_numpy(np_random)\n",
    "print(\"NumPy to PyTorch:\")\n",
    "print(np_to_torch)\n",
    "\n",
    "# PyTorch to NumPy\n",
    "torch_to_np = torch_random.numpy()\n",
    "print(\"\\nPyTorch to NumPy:\")\n",
    "print(torch_to_np)"
   ]
  },
  {
   "cell_type": "code",
   "execution_count": 7,
   "id": "eafb6192",
   "metadata": {},
   "outputs": [
    {
     "name": "stdout",
     "output_type": "stream",
     "text": [
      "Shape of the batch: torch.Size([64, 1, 28, 28])\n"
     ]
    }
   ],
   "source": [
    "# NumPy and PyTorch Tensor Operations on MNIST Dataset\n",
    "\n",
    "import numpy as np\n",
    "import torch\n",
    "import matplotlib.pyplot as plt\n",
    "from torchvision import datasets, transforms\n",
    "\n",
    "# Load MNIST dataset\n",
    "transform = transforms.Compose([transforms.ToTensor()])\n",
    "mnist_train = datasets.MNIST(root='./data', train=True, download=True, transform=transform)\n",
    "mnist_test = datasets.MNIST(root='./data', train=False, download=True, transform=transform)\n",
    "\n",
    "# Create a batch of MNIST images\n",
    "batch_size = 64\n",
    "train_loader = torch.utils.data.DataLoader(mnist_train, batch_size=batch_size, shuffle=True)\n",
    "images, labels = next(iter(train_loader))\n",
    "print(\"Shape of the batch:\", images.shape)\n",
    "\n",
    "# Concatenation\n",
    "# Concatenate along the batch dimension\n",
    "concat_images = torch.cat((images, images), dim=0)"
   ]
  },
  {
   "cell_type": "code",
   "execution_count": 8,
   "id": "0064318c",
   "metadata": {},
   "outputs": [
    {
     "name": "stdout",
     "output_type": "stream",
     "text": [
      "Shape of the batch: torch.Size([64, 1, 28, 28])\n",
      "Shape after concatenation: torch.Size([128, 1, 28, 28])\n"
     ]
    }
   ],
   "source": [
    "# NumPy and PyTorch Tensor Operations on MNIST Dataset\n",
    "\n",
    "import numpy as np\n",
    "import torch\n",
    "import matplotlib.pyplot as plt\n",
    "from torchvision import datasets, transforms\n",
    "\n",
    "# Load MNIST dataset\n",
    "transform = transforms.Compose([transforms.ToTensor()])\n",
    "mnist_train = datasets.MNIST(root='./data', train=True, download=True, transform=transform)\n",
    "mnist_test = datasets.MNIST(root='./data', train=False, download=True, transform=transform)\n",
    "\n",
    "# Create a batch of MNIST images\n",
    "batch_size = 64\n",
    "train_loader = torch.utils.data.DataLoader(mnist_train, batch_size=batch_size, shuffle=True)\n",
    "images, labels = next(iter(train_loader))\n",
    "print(\"Shape of the batch:\", images.shape)\n",
    "\n",
    "# Concatenation\n",
    "# Concatenate along the batch dimension\n",
    "concat_images = torch.cat((images, images), dim=0)\n",
    "print(\"Shape after concatenation:\", concat_images.shape)"
   ]
  },
  {
   "cell_type": "markdown",
   "id": "383a0d15",
   "metadata": {},
   "source": [
    "**NOTE**\n",
    "* The `MNIST` dataset is a well-known dataset in the field of computer vision, consisting of 60,000 training images and 10,000 test images of handwritten digits (0-9).\n",
    "* The `\"batch\"` in the context of this code refers to a subset or a group of samples from the overall dataset that are processed together during training or evaluation of a machine learning model.\n",
    "* The `batch size` is set to `64`, meaning that eachbatch will contain 64 images.\n",
    "* The shape of the batch of images is printed, which is `torch.Size([64, 1, 28, 28])`. This indicates that the batch contains `64 images`, each with a `single channel (grayscale)` and dimensions of `28x28 pixels`.\n",
    "* The resulting concat_images tensor has a shape of `torch.Size([128, 1, 28, 28]),` as the batch size has been increased from `64 to 128.`"
   ]
  },
  {
   "cell_type": "code",
   "execution_count": 15,
   "id": "5f49bb48",
   "metadata": {},
   "outputs": [
    {
     "name": "stdout",
     "output_type": "stream",
     "text": [
      "Shape after adding dimension: torch.Size([64, 1, 1, 28, 28])\n",
      "Shape after removing dimension: torch.Size([64, 1, 28, 28])\n",
      "Shape of flattened images: torch.Size([64, 784])\n",
      "Shape of first 10 images: torch.Size([10, 1, 28, 28])\n",
      "Shape of first image (all channels): torch.Size([1, 28, 28])\n",
      "Shape of center slice: torch.Size([64, 1, 14, 14])\n"
     ]
    },
    {
     "data": {
      "image/png": "[encoded data removed]",
      "text/plain": [
       "<Figure size 1500x500 with 3 Axes>"
      ]
     },
     "metadata": {},
     "output_type": "display_data"
    },
    {
     "name": "stdout",
     "output_type": "stream",
     "text": [
      "Shape of NumPy array: (64, 1, 28, 28)\n",
      "Shape of PyTorch tensor: torch.Size([64, 1, 28, 28])\n"
     ]
    }
   ],
   "source": [
    "# Cell 4: Add and remove dimensions\n",
    "# TODO: Add a new dimension to the 'images' tensor\n",
    "expanded_images = images.unsqueeze(1)\n",
    "print(\"Shape after adding dimension:\", expanded_images.shape)\n",
    "\n",
    "\n",
    "# TODO: Remove the added dimension from 'expanded_images'\n",
    "squeezed_images = expanded_images.squeeze(1)\n",
    "print(\"Shape after removing dimension:\", squeezed_images.shape)\n",
    "\n",
    "# Cell 5: Flatten tensors\n",
    "# TODO: Flatten the 'images' tensor to have shape (batch_size, -1)\n",
    "flattened_images = images.view(images.size(0), -1)\n",
    "print(\"Shape of flattened images:\", flattened_images.shape)\n",
    "\n",
    "# Cell 6: Slicing\n",
    "# TODO: Get the first 10 images from the 'images' tensor\n",
    "first_10_images = images[:10]\n",
    "print(\"Shape of first 10 images:\", first_10_images.shape)\n",
    "\n",
    "# TODO: Get all channels of the first image\n",
    "first_image_all_channels = images[0]\n",
    "print(\"Shape of first image (all channels):\", first_image_all_channels.shape)\n",
    "\n",
    "# TODO: Get a 14x14 slice from the center of each image\n",
    "center_slice = images[:,:,7:21, 7:21]\n",
    "print(\"Shape of center slice:\", center_slice.shape)\n",
    "\n",
    "# Cell 7: Visualize original and manipulated images\n",
    "# TODO: Complete the visualization code\n",
    "plt.figure(figsize=(15, 5))\n",
    "\n",
    "# Original image\n",
    "plt.subplot(1, 3, 1)\n",
    "plt.imshow(images[0].squeeze(), cmap='gray')\n",
    "plt.title(\"Original Image\")\n",
    "plt.axis('off')\n",
    "\n",
    "# Flattened and reshaped image\n",
    "plt.subplot(1, 3, 2)\n",
    "plt.imshow(flattened_images[0].view(28, 28), cmap='gray')\n",
    "plt.title(\"Flattened and Reshaped Image\")\n",
    "plt.axis('off')\n",
    "\n",
    "# Center slice\n",
    "plt.subplot(1, 3, 3)\n",
    "plt.imshow(center_slice[0][0], cmap='gray')\n",
    "plt.title(\"Center Slice\")\n",
    "plt.axis('off')\n",
    "\n",
    "plt.tight_layout()\n",
    "plt.show()\n",
    "\n",
    "# Cell 8: Convert between NumPy and PyTorch\n",
    "# TODO: Convert the PyTorch 'images' tensor to a NumPy array\n",
    "np_images = images.cpu().numpy()\n",
    "print(\"Shape of NumPy array:\", np_images.shape)\n",
    "\n",
    "# TODO: Convert the NumPy array back to a PyTorch tensor\n",
    "torch_images = torch.from_numpy(np_images)\n",
    "print(\"Shape of PyTorch tensor:\", torch_images.shape)\n"
   ]
  },
  {
   "cell_type": "markdown",
   "id": "14aa12a6",
   "metadata": {},
   "source": [
    "Note:\n",
    "\n",
    "\n",
    "In PyTorch, tensors representing images usually have a shape of `(batch_size, channels, height, width)`, where:\n",
    "\n",
    "1. batch_size is the number of images in the batch, `batch_size refers to the number of images that are processed together as a group`.\n",
    "2. channels is the number of color channels in the image `(1 for grayscale, 3 for RGB, etc.)`.\n",
    "3. height and width are the dimensions of the image.\n",
    "\n",
    "- This code demonstrates various tensor manipulation operations in PyTorch, including adding and removing dimensions, flattening tensors, and slicing tensors.\n",
    "\n",
    "Adding and Removing Dimensions:\n",
    "- The code adds a new dimension to the 'images' tensor using the `unsqueeze()` method, creating a 4D tensor with shape (batch_size, 1, height, width).\n",
    "- It then removes the added dimension using the `squeeze()` method, returning the tensor back to its original 3D shape (batch_size, height, width).\n",
    "\n",
    "Flattening Tensors:\n",
    "\n",
    "- The flattening process takes the 3D image tensors and reshapes them into 2D tensors, where each 2D tensor represents a single image. The height and width dimensions (28 x 28 = 784) are combined into a single dimension, resulting in a vector of length 784 for each image.\n",
    "- The code flattens the 'images' tensor using the `view()` method, converting the 3D tensor (batch_size, height, width) to a 2D tensor (batch_size, height * width).\n",
    "\n",
    "Slicing Tensors:\n",
    "- The code extracts the first 10 images from the 'images' tensor using slicing with the range `[:10]`.\n",
    "- It then extracts all the channels of the first image using `images[0]`.\n",
    "- Finally, it extracts a 14x14 center slice from each image using the range `[:,:, 7:21, 7:21]`.\n",
    "\n",
    "Visualization:\n",
    "- The code visualizes the original image, the flattened and reshaped image, and the center slice using Matplotlib's `imshow()` function.\n",
    "\n",
    "Converting between NumPy and PyTorch:\n",
    "- The code converts the PyTorch 'images' tensor to a NumPy array using the `cpu().numpy()` method.\n",
    "- It then converts the NumPy array back to a PyTorch tensor using `torch.from_numpy()`.\n",
    "\n"
   ]
  },
  {
   "cell_type": "code",
   "execution_count": null,
   "id": "a867bc68",
   "metadata": {},
   "outputs": [],
   "source": []
  }
 ],
 "metadata": {
  "kernelspec": {
   "display_name": "Python 3 (ipykernel)",
   "language": "python",
   "name": "python3"
  },
  "language_info": {
   "codemirror_mode": {
    "name": "ipython",
    "version": 3
   },
   "file_extension": ".py",
   "mimetype": "text/x-python",
   "name": "python",
   "nbconvert_exporter": "python",
   "pygments_lexer": "ipython3",
   "version": "3.11.5"
  }
 },
 "nbformat": 4,
 "nbformat_minor": 5
}
