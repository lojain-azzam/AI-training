{
 "cells": [
  {
   "cell_type": "markdown",
   "id": "55444744",
   "metadata": {},
   "source": [
    "## Optional Assignment: Advanced NumPy and PyTorch Operations with MNIST\n",
    "*  PyTorch, a popular open-source machine learning library for Python.\n",
    "* The MNIST (Modified National Institute of Standards and Technology) dataset is a widely-used dataset in the field of machine learning and computer vision. "
   ]
  },
  {
   "cell_type": "markdown",
   "id": "081bb3e0",
   "metadata": {},
   "source": [
    "# Intro about PyTorch\n",
    "PyTorch is an open-source machine learning library for Python that is primarily used for building and training deep neural networks. It was developed by the AI research group at Facebook's AI Research lab (FAIR) and is now widely used in the machine learning and deep learning community.\n",
    "\n",
    "PyTorch is a powerful and flexible deep learning framework that has gained significant popularity in the machine learning community. Its dynamic computational graphs, ease of use, and strong support for research and production make it a compelling choice for a wide range of machine learning applications."
   ]
  },
  {
   "cell_type": "code",
   "execution_count": 2,
   "id": "fb0a043c",
   "metadata": {},
   "outputs": [
    {
     "name": "stdout",
     "output_type": "stream",
     "text": [
      "Random NumPy array:\n",
      "[[0.68555846 0.15298211 0.31720029 0.67183991]\n",
      " [0.26901234 0.34192065 0.81783708 0.93006806]\n",
      " [0.77366008 0.14163495 0.87927009 0.58508256]]\n",
      "\n",
      "Random PyTorch tensor:\n",
      "tensor([[0.3122, 0.4392, 0.7233, 0.4178],\n",
      "        [0.3429, 0.3051, 0.7882, 0.3394],\n",
      "        [0.3214, 0.1076, 0.6643, 0.1478]])\n"
     ]
    }
   ],
   "source": [
    "# NumPy and PyTorch Tensor Operations Assignment\n",
    "\n",
    "import numpy as np\n",
    "import torch\n",
    "import matplotlib.pyplot as plt\n",
    "from torchvision import datasets, transforms\n",
    "\n",
    "# Create a random NumPy array\n",
    "np_random = np.random.rand(3, 4)\n",
    "print(\"Random NumPy array:\")\n",
    "print(np_random)\n",
    "\n",
    "# Create a random PyTorch tensor\n",
    "torch_random = torch.rand(3, 4)\n",
    "print(\"\\nRandom PyTorch tensor:\")\n",
    "print(torch_random)\n",
    "\n"
   ]
  },
  {
   "cell_type": "markdown",
   "id": "54f2b17f",
   "metadata": {},
   "source": []
  },
  {
   "cell_type": "code",
   "execution_count": 3,
   "id": "02ece368",
   "metadata": {},
   "outputs": [
    {
     "name": "stdout",
     "output_type": "stream",
     "text": [
      "Reshaped NumPy array:\n",
      "[[0.68555846 0.15298211 0.31720029 0.67183991 0.26901234 0.34192065]\n",
      " [0.81783708 0.93006806 0.77366008 0.14163495 0.87927009 0.58508256]]\n",
      "\n",
      "Reshaped PyTorch tensor:\n",
      "tensor([[0.3122, 0.4392, 0.7233, 0.4178, 0.3429, 0.3051],\n",
      "        [0.7882, 0.3394, 0.3214, 0.1076, 0.6643, 0.1478]])\n"
     ]
    }
   ],
   "source": [
    "#  Reshaping\n",
    "# Reshape NumPy array\n",
    "np_reshaped = np_random.reshape(2, 6)\n",
    "print(\"Reshaped NumPy array:\")\n",
    "print(np_reshaped)\n",
    "\n",
    "# Reshape PyTorch tensor\n",
    "torch_reshaped = torch_random.reshape(2, 6)\n",
    "print(\"\\nReshaped PyTorch tensor:\")\n",
    "print(torch_reshaped)"
   ]
  },
  {
   "cell_type": "code",
   "execution_count": 4,
   "id": "1df42006",
   "metadata": {},
   "outputs": [
    {
     "name": "stdout",
     "output_type": "stream",
     "text": [
      "NumPy array multiplication:\n",
      "[[1.37111693 0.30596422 0.63440057 1.34367981]\n",
      " [0.53802468 0.6838413  1.63567417 1.86013613]\n",
      " [1.54732016 0.28326991 1.75854017 1.17016512]]\n",
      "\n",
      "PyTorch tensor multiplication:\n",
      "tensor([[0.6244, 0.8784, 1.4467, 0.8355],\n",
      "        [0.6858, 0.6102, 1.5763, 0.6788],\n",
      "        [0.6428, 0.2153, 1.3285, 0.2957]])\n"
     ]
    }
   ],
   "source": [
    "# NumPy array multiplication\n",
    "np_mult = np.multiply(np_random, 2)\n",
    "print(\"NumPy array multiplication:\")\n",
    "print(np_mult)\n",
    "\n",
    "# PyTorch tensor multiplication\n",
    "torch_mult = torch.mul(torch_random, 2)\n",
    "print(\"\\nPyTorch tensor multiplication:\")\n",
    "print(torch_mult)"
   ]
  },
  {
   "cell_type": "code",
   "execution_count": 5,
   "id": "5db3ec11",
   "metadata": {},
   "outputs": [
    {
     "name": "stdout",
     "output_type": "stream",
     "text": [
      "Permuted NumPy array:\n",
      "[[0.68555846 0.26901234 0.77366008]\n",
      " [0.15298211 0.34192065 0.14163495]\n",
      " [0.31720029 0.81783708 0.87927009]\n",
      " [0.67183991 0.93006806 0.58508256]]\n",
      "\n",
      "Permuted PyTorch tensor:\n",
      "tensor([[0.3122, 0.3429, 0.3214],\n",
      "        [0.4392, 0.3051, 0.1076],\n",
      "        [0.7233, 0.7882, 0.6643],\n",
      "        [0.4178, 0.3394, 0.1478]])\n"
     ]
    }
   ],
   "source": [
    "#  Permute shape\n",
    "# Permute NumPy array\n",
    "np_permuted = np.transpose(np_random, (1, 0))\n",
    "print(\"Permuted NumPy array:\")\n",
    "print(np_permuted)\n",
    "\n",
    "# Permute PyTorch tensor\n",
    "torch_permuted = torch_random.permute(1, 0)\n",
    "print(\"\\nPermuted PyTorch tensor:\")\n",
    "print(torch_permuted)\n"
   ]
  },
  {
   "cell_type": "code",
   "execution_count": 6,
   "id": "29b70b86",
   "metadata": {},
   "outputs": [
    {
     "name": "stdout",
     "output_type": "stream",
     "text": [
      "NumPy to PyTorch:\n",
      "tensor([[0.6856, 0.1530, 0.3172, 0.6718],\n",
      "        [0.2690, 0.3419, 0.8178, 0.9301],\n",
      "        [0.7737, 0.1416, 0.8793, 0.5851]], dtype=torch.float64)\n",
      "\n",
      "PyTorch to NumPy:\n",
      "[[0.3121832  0.43921524 0.72333115 0.4177606 ]\n",
      " [0.34288007 0.3050769  0.7881573  0.33939385]\n",
      " [0.32141495 0.10764658 0.66427356 0.14784086]]\n"
     ]
    }
   ],
   "source": [
    "# Convert between NumPy and PyTorch\n",
    "# NumPy to PyTorch\n",
    "np_to_torch = torch.from_numpy(np_random)\n",
    "print(\"NumPy to PyTorch:\")\n",
    "print(np_to_torch)\n",
    "\n",
    "# PyTorch to NumPy\n",
    "torch_to_np = torch_random.numpy()\n",
    "print(\"\\nPyTorch to NumPy:\")\n",
    "print(torch_to_np)"
   ]
  },
  {
   "cell_type": "code",
   "execution_count": 7,
   "id": "eafb6192",
   "metadata": {},
   "outputs": [
    {
     "name": "stdout",
     "output_type": "stream",
     "text": [
      "Downloading http://yann.lecun.com/exdb/mnist/train-images-idx3-ubyte.gz\n",
      "Failed to download (trying next):\n",
      "HTTP Error 403: Forbidden\n",
      "\n",
      "Downloading https://ossci-datasets.s3.amazonaws.com/mnist/train-images-idx3-ubyte.gz\n",
      "Downloading https://ossci-datasets.s3.amazonaws.com/mnist/train-images-idx3-ubyte.gz to ./data/MNIST/raw/train-images-idx3-ubyte.gz\n"
     ]
    },
    {
     "name": "stderr",
     "output_type": "stream",
     "text": [
      "100%|████████████████████████████████████████████████████████████████████████████████████████████████████████████████████████████████████████████████████████| 9912422/9912422 [02:31<00:00, 65268.79it/s]\n"
     ]
    },
    {
     "name": "stdout",
     "output_type": "stream",
     "text": [
      "Extracting ./data/MNIST/raw/train-images-idx3-ubyte.gz to ./data/MNIST/raw\n",
      "\n",
      "Downloading http://yann.lecun.com/exdb/mnist/train-labels-idx1-ubyte.gz\n",
      "Failed to download (trying next):\n",
      "HTTP Error 403: Forbidden\n",
      "\n",
      "Downloading https://ossci-datasets.s3.amazonaws.com/mnist/train-labels-idx1-ubyte.gz\n",
      "Downloading https://ossci-datasets.s3.amazonaws.com/mnist/train-labels-idx1-ubyte.gz to ./data/MNIST/raw/train-labels-idx1-ubyte.gz\n"
     ]
    },
    {
     "name": "stderr",
     "output_type": "stream",
     "text": [
      "100%|███████████████████████████████████████████████████████████████████████████████████████████████████████████████████████████████████████████████████████████| 28881/28881 [00:00<00:00, 168905.80it/s]\n"
     ]
    },
    {
     "name": "stdout",
     "output_type": "stream",
     "text": [
      "Extracting ./data/MNIST/raw/train-labels-idx1-ubyte.gz to ./data/MNIST/raw\n",
      "\n",
      "Downloading http://yann.lecun.com/exdb/mnist/t10k-images-idx3-ubyte.gz\n",
      "Failed to download (trying next):\n",
      "HTTP Error 403: Forbidden\n",
      "\n",
      "Downloading https://ossci-datasets.s3.amazonaws.com/mnist/t10k-images-idx3-ubyte.gz\n",
      "Downloading https://ossci-datasets.s3.amazonaws.com/mnist/t10k-images-idx3-ubyte.gz to ./data/MNIST/raw/t10k-images-idx3-ubyte.gz\n"
     ]
    },
    {
     "name": "stderr",
     "output_type": "stream",
     "text": [
      "100%|███████████████████████████████████████████████████████████████████████████████████████████████████████████████████████████████████████████████████████| 1648877/1648877 [00:16<00:00, 100852.15it/s]\n"
     ]
    },
    {
     "name": "stdout",
     "output_type": "stream",
     "text": [
      "Extracting ./data/MNIST/raw/t10k-images-idx3-ubyte.gz to ./data/MNIST/raw\n",
      "\n",
      "Downloading http://yann.lecun.com/exdb/mnist/t10k-labels-idx1-ubyte.gz\n",
      "Failed to download (trying next):\n",
      "HTTP Error 403: Forbidden\n",
      "\n",
      "Downloading https://ossci-datasets.s3.amazonaws.com/mnist/t10k-labels-idx1-ubyte.gz\n",
      "Downloading https://ossci-datasets.s3.amazonaws.com/mnist/t10k-labels-idx1-ubyte.gz to ./data/MNIST/raw/t10k-labels-idx1-ubyte.gz\n"
     ]
    },
    {
     "name": "stderr",
     "output_type": "stream",
     "text": [
      "100%|████████████████████████████████████████████████████████████████████████████████████████████████████████████████████████████████████████████████████████████| 4542/4542 [00:00<00:00, 1150116.44it/s]"
     ]
    },
    {
     "name": "stdout",
     "output_type": "stream",
     "text": [
      "Extracting ./data/MNIST/raw/t10k-labels-idx1-ubyte.gz to ./data/MNIST/raw\n",
      "\n",
      "Shape of the batch: torch.Size([64, 1, 28, 28])\n"
     ]
    },
    {
     "name": "stderr",
     "output_type": "stream",
     "text": [
      "\n"
     ]
    }
   ],
   "source": [
    "# NumPy and PyTorch Tensor Operations on MNIST Dataset\n",
    "\n",
    "import numpy as np\n",
    "import torch\n",
    "import matplotlib.pyplot as plt\n",
    "from torchvision import datasets, transforms\n",
    "\n",
    "# Load MNIST dataset\n",
    "transform = transforms.Compose([transforms.ToTensor()])\n",
    "mnist_train = datasets.MNIST(root='./data', train=True, download=True, transform=transform)\n",
    "mnist_test = datasets.MNIST(root='./data', train=False, download=True, transform=transform)\n",
    "\n",
    "# Create a batch of MNIST images\n",
    "batch_size = 64\n",
    "train_loader = torch.utils.data.DataLoader(mnist_train, batch_size=batch_size, shuffle=True)\n",
    "images, labels = next(iter(train_loader))\n",
    "print(\"Shape of the batch:\", images.shape)\n",
    "\n",
    "# Concatenation\n",
    "# Concatenate along the batch dimension\n",
    "concat_images = torch.cat((images, images), dim=0)"
   ]
  },
  {
   "cell_type": "code",
   "execution_count": 8,
   "id": "5f49bb48",
   "metadata": {},
   "outputs": [
    {
     "ename": "AttributeError",
     "evalue": "'NoneType' object has no attribute 'shape'",
     "output_type": "error",
     "traceback": [
      "\u001b[0;31m---------------------------------------------------------------------------\u001b[0m",
      "\u001b[0;31mAttributeError\u001b[0m                            Traceback (most recent call last)",
      "Cell \u001b[0;32mIn[8], line 4\u001b[0m\n\u001b[1;32m      1\u001b[0m \u001b[38;5;66;03m# Cell 4: Add and remove dimensions\u001b[39;00m\n\u001b[1;32m      2\u001b[0m \u001b[38;5;66;03m# TODO: Add a new dimension to the 'images' tensor\u001b[39;00m\n\u001b[1;32m      3\u001b[0m expanded_images \u001b[38;5;241m=\u001b[39m \u001b[38;5;28;01mNone\u001b[39;00m  \u001b[38;5;66;03m# Your code here\u001b[39;00m\n\u001b[0;32m----> 4\u001b[0m \u001b[38;5;28mprint\u001b[39m(\u001b[38;5;124m\"\u001b[39m\u001b[38;5;124mShape after adding dimension:\u001b[39m\u001b[38;5;124m\"\u001b[39m, expanded_images\u001b[38;5;241m.\u001b[39mshape)\n\u001b[1;32m      6\u001b[0m \u001b[38;5;66;03m# TODO: Remove the added dimension from 'expanded_images'\u001b[39;00m\n\u001b[1;32m      7\u001b[0m squeezed_images \u001b[38;5;241m=\u001b[39m \u001b[38;5;28;01mNone\u001b[39;00m  \u001b[38;5;66;03m# Your code here\u001b[39;00m\n",
      "\u001b[0;31mAttributeError\u001b[0m: 'NoneType' object has no attribute 'shape'"
     ]
    }
   ],
   "source": [
    "\n",
    "# Cell 4: Add and remove dimensions\n",
    "# TODO: Add a new dimension to the 'images' tensor\n",
    "expanded_images = None  # Your code here\n",
    "print(\"Shape after adding dimension:\", expanded_images.shape)\n",
    "\n",
    "# TODO: Remove the added dimension from 'expanded_images'\n",
    "squeezed_images = None  # Your code here\n",
    "print(\"Shape after removing dimension:\", squeezed_images.shape)\n",
    "\n",
    "# Cell 5: Flatten tensors\n",
    "# TODO: Flatten the 'images' tensor to have shape (batch_size, -1)\n",
    "flattened_images = None  # Your code here\n",
    "print(\"Shape of flattened images:\", flattened_images.shape)\n",
    "\n",
    "# Cell 6: Slicing\n",
    "# TODO: Get the first 10 images from the 'images' tensor\n",
    "first_10_images = None  # Your code here\n",
    "print(\"Shape of first 10 images:\", first_10_images.shape)\n",
    "\n",
    "# TODO: Get all channels of the first image\n",
    "first_image_all_channels = None  # Your code here\n",
    "print(\"Shape of first image (all channels):\", first_image_all_channels.shape)\n",
    "\n",
    "# TODO: Get a 14x14 slice from the center of each image\n",
    "center_slice = None  # Your code here\n",
    "print(\"Shape of center slice:\", center_slice.shape)\n",
    "\n",
    "# Cell 7: Visualize original and manipulated images\n",
    "# TODO: Complete the visualization code\n",
    "plt.figure(figsize=(15, 5))\n",
    "\n",
    "# Original image\n",
    "plt.subplot(1, 3, 1)\n",
    "plt.imshow(images[0].squeeze(), cmap='gray')\n",
    "plt.title(\"Original Image\")\n",
    "plt.axis('off')\n",
    "\n",
    "# Flattened and reshaped image\n",
    "plt.subplot(1, 3, 2)\n",
    "# TODO: Display the first flattened image, reshaping it back to 28x28\n",
    "# Your code here\n",
    "\n",
    "# Center slice\n",
    "plt.subplot(1, 3, 3)\n",
    "# TODO: Display the center slice of the first image\n",
    "# Your code here\n",
    "\n",
    "plt.tight_layout()\n",
    "plt.show()\n",
    "\n",
    "# Cell 8: Convert between NumPy and PyTorch\n",
    "# TODO: Convert the PyTorch 'images' tensor to a NumPy array\n",
    "np_images = None  # Your code here\n",
    "print(\"Shape of NumPy array:\", np_images.shape)\n",
    "\n",
    "# TODO: Convert the NumPy array back to a PyTorch tensor\n",
    "torch_images = None  # Your code here\n",
    "print(\"Shape of PyTorch tensor:\", torch_images.shape)\n",
    "\n"
   ]
  },
  {
   "cell_type": "code",
   "execution_count": null,
   "id": "a73dd69e",
   "metadata": {},
   "outputs": [],
   "source": []
  }
 ],
 "metadata": {
  "kernelspec": {
   "display_name": "Python 3 (ipykernel)",
   "language": "python",
   "name": "python3"
  },
  "language_info": {
   "codemirror_mode": {
    "name": "ipython",
    "version": 3
   },
   "file_extension": ".py",
   "mimetype": "text/x-python",
   "name": "python",
   "nbconvert_exporter": "python",
   "pygments_lexer": "ipython3",
   "version": "3.11.5"
  }
 },
 "nbformat": 4,
 "nbformat_minor": 5
}
