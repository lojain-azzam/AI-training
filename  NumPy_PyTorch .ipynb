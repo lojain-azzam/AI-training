{
 "cells": [
  {
   "cell_type": "markdown",
   "id": "55444744",
   "metadata": {},
   "source": [
    "## Optional Assignment: Advanced NumPy and PyTorch Operations with MNIST\n",
    "**Description:**\n",
    "\n",
    "This optional assignment is designed to enhance your skills in NumPy and PyTorch, focusing on tensor operations using the MNIST dataset. By completing this assignment, you'll gain hands-on experience with advanced tensor manipulations, data preprocessing, and visualization techniques commonly used in deep learning projects.\n",
    "\n",
    "**Objectives:**\n",
    "\n",
    "* Practice tensor operations in PyTorch\n",
    "* Explore data manipulation techniques with the MNIST dataset\n",
    "* Gain experience in converting between NumPy arrays and PyTorch tensors\n",
    "* Enhance your understanding of tensor shapes and dimensions\n"
   ]
  },
  {
   "cell_type": "markdown",
   "id": "081bb3e0",
   "metadata": {},
   "source": [
    "# Intro about PyTorch\n",
    "PyTorch is an open-source machine learning library for Python that is primarily used for building and training deep neural networks. It was developed by the AI research group at Facebook's AI Research lab (FAIR) and is now widely used in the machine learning and deep learning community.\n",
    "\n",
    "PyTorch is a powerful and flexible deep learning framework that has gained significant popularity in the machine learning community. Its dynamic computational graphs, ease of use, and strong support for research and production make it a compelling choice for a wide range of machine learning applications.\n",
    "* The MNIST (Modified National Institute of Standards and Technology) dataset is a widely-used dataset in the field of machine learning and computer vision."
   ]
  },
  {
   "cell_type": "code",
   "execution_count": 5,
   "id": "fb0a043c",
   "metadata": {},
   "outputs": [
    {
     "name": "stdout",
     "output_type": "stream",
     "text": [
      "Random NumPy array:\n",
      "[[0.86005324 0.23327059 0.69339303 0.0806209 ]\n",
      " [0.71540044 0.21821474 0.4474634  0.98316759]\n",
      " [0.16283096 0.64292887 0.5344528  0.04662871]]\n",
      "\n",
      "Random PyTorch tensor:\n",
      "tensor([[0.0266, 0.9787, 0.8226, 0.9252],\n",
      "        [0.7773, 0.8750, 0.1310, 0.8453],\n",
      "        [0.4742, 0.8261, 0.5040, 0.0741]])\n"
     ]
    }
   ],
   "source": [
    "# NumPy and PyTorch Tensor Operations Assignment\n",
    "\n",
    "import numpy as np\n",
    "import torch\n",
    "import matplotlib.pyplot as plt\n",
    "from torchvision import datasets, transforms\n",
    "\n",
    "# Create a random NumPy array\n",
    "np_random = np.random.rand(3, 4)\n",
    "print(\"Random NumPy array:\")\n",
    "print(np_random)\n",
    "\n",
    "# Create a random PyTorch tensor\n",
    "torch_random = torch.rand(3, 4)\n",
    "print(\"\\nRandom PyTorch tensor:\")\n",
    "print(torch_random)\n",
    "\n"
   ]
  },
  {
   "cell_type": "code",
   "execution_count": 6,
   "id": "02ece368",
   "metadata": {},
   "outputs": [
    {
     "name": "stdout",
     "output_type": "stream",
     "text": [
      "Reshaped NumPy array:\n",
      "[[0.86005324 0.23327059 0.69339303 0.0806209  0.71540044 0.21821474]\n",
      " [0.4474634  0.98316759 0.16283096 0.64292887 0.5344528  0.04662871]]\n",
      "\n",
      "Reshaped PyTorch tensor:\n",
      "tensor([[0.0266, 0.9787, 0.8226, 0.9252, 0.7773, 0.8750],\n",
      "        [0.1310, 0.8453, 0.4742, 0.8261, 0.5040, 0.0741]])\n"
     ]
    }
   ],
   "source": [
    "#  Reshaping\n",
    "# Reshape NumPy array\n",
    "np_reshaped = np_random.reshape(2, 6)\n",
    "print(\"Reshaped NumPy array:\")\n",
    "print(np_reshaped)\n",
    "\n",
    "# Reshape PyTorch tensor\n",
    "torch_reshaped = torch_random.reshape(2, 6)\n",
    "print(\"\\nReshaped PyTorch tensor:\")\n",
    "print(torch_reshaped)"
   ]
  },
  {
   "cell_type": "code",
   "execution_count": 7,
   "id": "1df42006",
   "metadata": {},
   "outputs": [
    {
     "name": "stdout",
     "output_type": "stream",
     "text": [
      "NumPy array multiplication:\n",
      "[[1.72010648 0.46654119 1.38678607 0.1612418 ]\n",
      " [1.43080088 0.43642949 0.8949268  1.96633518]\n",
      " [0.32566192 1.28585775 1.06890559 0.09325742]]\n",
      "\n",
      "PyTorch tensor multiplication:\n",
      "tensor([[0.0533, 1.9574, 1.6453, 1.8504],\n",
      "        [1.5547, 1.7500, 0.2621, 1.6906],\n",
      "        [0.9484, 1.6521, 1.0081, 0.1482]])\n"
     ]
    }
   ],
   "source": [
    "# NumPy array multiplication\n",
    "np_mult = np.multiply(np_random, 2)\n",
    "print(\"NumPy array multiplication:\")\n",
    "print(np_mult)\n",
    "\n",
    "# PyTorch tensor multiplication\n",
    "torch_mult = torch.mul(torch_random, 2)\n",
    "print(\"\\nPyTorch tensor multiplication:\")\n",
    "print(torch_mult)"
   ]
  },
  {
   "cell_type": "code",
   "execution_count": 8,
   "id": "5db3ec11",
   "metadata": {},
   "outputs": [
    {
     "name": "stdout",
     "output_type": "stream",
     "text": [
      "Permuted NumPy array:\n",
      "[[0.86005324 0.71540044 0.16283096]\n",
      " [0.23327059 0.21821474 0.64292887]\n",
      " [0.69339303 0.4474634  0.5344528 ]\n",
      " [0.0806209  0.98316759 0.04662871]]\n",
      "\n",
      "Permuted PyTorch tensor:\n",
      "tensor([[0.0266, 0.7773, 0.4742],\n",
      "        [0.9787, 0.8750, 0.8261],\n",
      "        [0.8226, 0.1310, 0.5040],\n",
      "        [0.9252, 0.8453, 0.0741]])\n"
     ]
    }
   ],
   "source": [
    "#  Permute shape\n",
    "# Permute NumPy array\n",
    "np_permuted = np.transpose(np_random, (1, 0))\n",
    "print(\"Permuted NumPy array:\")\n",
    "print(np_permuted)\n",
    "\n",
    "# Permute PyTorch tensor\n",
    "torch_permuted = torch_random.permute(1, 0)\n",
    "print(\"\\nPermuted PyTorch tensor:\")\n",
    "print(torch_permuted)\n"
   ]
  },
  {
   "cell_type": "code",
   "execution_count": 9,
   "id": "29b70b86",
   "metadata": {},
   "outputs": [
    {
     "name": "stdout",
     "output_type": "stream",
     "text": [
      "NumPy to PyTorch:\n",
      "tensor([[0.8601, 0.2333, 0.6934, 0.0806],\n",
      "        [0.7154, 0.2182, 0.4475, 0.9832],\n",
      "        [0.1628, 0.6429, 0.5345, 0.0466]], dtype=torch.float64)\n",
      "\n",
      "PyTorch to NumPy:\n",
      "[[0.02663314 0.9787178  0.8226456  0.9251889 ]\n",
      " [0.7773302  0.87498504 0.13102645 0.84531766]\n",
      " [0.4742012  0.82605547 0.50402814 0.07410818]]\n"
     ]
    }
   ],
   "source": [
    "# Convert between NumPy and PyTorch\n",
    "# NumPy to PyTorch\n",
    "np_to_torch = torch.from_numpy(np_random)\n",
    "print(\"NumPy to PyTorch:\")\n",
    "print(np_to_torch)\n",
    "\n",
    "# PyTorch to NumPy\n",
    "torch_to_np = torch_random.numpy()\n",
    "print(\"\\nPyTorch to NumPy:\")\n",
    "print(torch_to_np)"
   ]
  },
  {
   "cell_type": "code",
   "execution_count": 12,
   "id": "eafb6192",
   "metadata": {},
   "outputs": [
    {
     "name": "stdout",
     "output_type": "stream",
     "text": [
      "Shape of the batch: torch.Size([64, 1, 28, 28])\n"
     ]
    }
   ],
   "source": [
    "# NumPy and PyTorch Tensor Operations on MNIST Dataset\n",
    "\n",
    "import numpy as np\n",
    "import torch\n",
    "import matplotlib.pyplot as plt\n",
    "from torchvision import datasets, transforms\n",
    "\n",
    "# Load MNIST dataset\n",
    "transform = transforms.Compose([transforms.ToTensor()])\n",
    "mnist_train = datasets.MNIST(root='./data', train=True, download=True, transform=transform)\n",
    "mnist_test = datasets.MNIST(root='./data', train=False, download=True, transform=transform)\n",
    "\n",
    "# Create a batch of MNIST images\n",
    "batch_size = 64\n",
    "train_loader = torch.utils.data.DataLoader(mnist_train, batch_size=batch_size, shuffle=True)\n",
    "images, labels = next(iter(train_loader))\n",
    "print(\"Shape of the batch:\", images.shape)\n",
    "\n",
    "# Concatenation\n",
    "# Concatenate along the batch dimension\n",
    "concat_images = torch.cat((images, images), dim=0)"
   ]
  },
  {
   "cell_type": "code",
   "execution_count": 14,
   "id": "a6fe92ef",
   "metadata": {},
   "outputs": [
    {
     "name": "stdout",
     "output_type": "stream",
     "text": [
      "Shape of the batch: torch.Size([64, 1, 28, 28])\n",
      "Shape after concatenation: torch.Size([128, 1, 28, 28])\n"
     ]
    }
   ],
   "source": [
    "# NumPy and PyTorch Tensor Operations on MNIST Dataset\n",
    "\n",
    "import numpy as np\n",
    "import torch\n",
    "import matplotlib.pyplot as plt\n",
    "from torchvision import datasets, transforms\n",
    "\n",
    "# Load MNIST dataset\n",
    "transform = transforms.Compose([transforms.ToTensor()])\n",
    "mnist_train = datasets.MNIST(root='./data', train=True, download=True, transform=transform)\n",
    "mnist_test = datasets.MNIST(root='./data', train=False, download=True, transform=transform)\n",
    "\n",
    "# Create a batch of MNIST images\n",
    "batch_size = 64\n",
    "train_loader = torch.utils.data.DataLoader(mnist_train, batch_size=batch_size, shuffle=True)\n",
    "images, labels = next(iter(train_loader))\n",
    "print(\"Shape of the batch:\", images.shape)\n",
    "\n",
    "# Concatenation\n",
    "# Concatenate along the batch dimension\n",
    "concat_images = torch.cat((images, images), dim=0)\n",
    "print(\"Shape after concatenation:\", concat_images.shape)"
   ]
  },
  {
   "cell_type": "markdown",
   "id": "c6be1280",
   "metadata": {},
   "source": [
    "**NOTE**\n",
    "* The `MNIST` dataset is a well-known dataset in the field of computer vision, consisting of 60,000 training images and 10,000 test images of handwritten digits (0-9).\n",
    "* The `\"batch\"` in the context of this code refers to a subset or a group of samples from the overall dataset that are processed together during training or evaluation of a machine learning model.\n",
    "* The `batch size` is set to `64`, meaning that eachbatch will contain 64 images.\n",
    "* The shape of the batch of images is printed, which is `torch.Size([64, 1, 28, 28])`. This indicates that the batch contains `64 images`, each with a `single channel (grayscale)` and dimensions of `28x28 pixels`.\n",
    "* The resulting concat_images tensor has a shape of `torch.Size([128, 1, 28, 28]),` as the batch size has been increased from `64 to 128.`"
   ]
  },
  {
   "cell_type": "code",
   "execution_count": 24,
   "id": "5f49bb48",
   "metadata": {},
   "outputs": [
    {
     "name": "stdout",
     "output_type": "stream",
     "text": [
      "Shape after adding dimension: torch.Size([64, 1, 1, 28, 28])\n",
      "Shape after removing dimension: torch.Size([64, 1, 28, 28])\n",
      "Shape of flattened images: torch.Size([64, 784])\n",
      "Shape of first 10 images: torch.Size([10, 1, 28, 28])\n",
      "Shape of first image (all channels): torch.Size([1, 28, 28])\n",
      "Shape of center slice: torch.Size([64, 0, 14, 28])\n"
     ]
    },
    {
     "ename": "TypeError",
     "evalue": "Invalid shape (0, 14, 28) for image data",
     "output_type": "error",
     "traceback": [
      "\u001b[0;31m---------------------------------------------------------------------------\u001b[0m",
      "\u001b[0;31mTypeError\u001b[0m                                 Traceback (most recent call last)",
      "Cell \u001b[0;32mIn[24], line 47\u001b[0m\n\u001b[1;32m     45\u001b[0m \u001b[38;5;66;03m# Center slice\u001b[39;00m\n\u001b[1;32m     46\u001b[0m plt\u001b[38;5;241m.\u001b[39msubplot(\u001b[38;5;241m1\u001b[39m, \u001b[38;5;241m3\u001b[39m, \u001b[38;5;241m3\u001b[39m)\n\u001b[0;32m---> 47\u001b[0m plt\u001b[38;5;241m.\u001b[39mimshow(center_slice[\u001b[38;5;241m0\u001b[39m], cmap\u001b[38;5;241m=\u001b[39m\u001b[38;5;124m'\u001b[39m\u001b[38;5;124mgray\u001b[39m\u001b[38;5;124m'\u001b[39m)\n\u001b[1;32m     48\u001b[0m plt\u001b[38;5;241m.\u001b[39mtitle(\u001b[38;5;124m\"\u001b[39m\u001b[38;5;124mCenter Slice\u001b[39m\u001b[38;5;124m\"\u001b[39m)\n\u001b[1;32m     49\u001b[0m plt\u001b[38;5;241m.\u001b[39maxis(\u001b[38;5;124m'\u001b[39m\u001b[38;5;124moff\u001b[39m\u001b[38;5;124m'\u001b[39m)\n",
      "File \u001b[0;32m~/anaconda3/lib/python3.11/site-packages/matplotlib/pyplot.py:3358\u001b[0m, in \u001b[0;36mimshow\u001b[0;34m(X, cmap, norm, aspect, interpolation, alpha, vmin, vmax, origin, extent, interpolation_stage, filternorm, filterrad, resample, url, data, **kwargs)\u001b[0m\n\u001b[1;32m   3337\u001b[0m \u001b[38;5;129m@_copy_docstring_and_deprecators\u001b[39m(Axes\u001b[38;5;241m.\u001b[39mimshow)\n\u001b[1;32m   3338\u001b[0m \u001b[38;5;28;01mdef\u001b[39;00m \u001b[38;5;21mimshow\u001b[39m(\n\u001b[1;32m   3339\u001b[0m     X: ArrayLike \u001b[38;5;241m|\u001b[39m PIL\u001b[38;5;241m.\u001b[39mImage\u001b[38;5;241m.\u001b[39mImage,\n\u001b[0;32m   (...)\u001b[0m\n\u001b[1;32m   3356\u001b[0m     \u001b[38;5;241m*\u001b[39m\u001b[38;5;241m*\u001b[39mkwargs,\n\u001b[1;32m   3357\u001b[0m ) \u001b[38;5;241m-\u001b[39m\u001b[38;5;241m>\u001b[39m AxesImage:\n\u001b[0;32m-> 3358\u001b[0m     __ret \u001b[38;5;241m=\u001b[39m gca()\u001b[38;5;241m.\u001b[39mimshow(\n\u001b[1;32m   3359\u001b[0m         X,\n\u001b[1;32m   3360\u001b[0m         cmap\u001b[38;5;241m=\u001b[39mcmap,\n\u001b[1;32m   3361\u001b[0m         norm\u001b[38;5;241m=\u001b[39mnorm,\n\u001b[1;32m   3362\u001b[0m         aspect\u001b[38;5;241m=\u001b[39maspect,\n\u001b[1;32m   3363\u001b[0m         interpolation\u001b[38;5;241m=\u001b[39minterpolation,\n\u001b[1;32m   3364\u001b[0m         alpha\u001b[38;5;241m=\u001b[39malpha,\n\u001b[1;32m   3365\u001b[0m         vmin\u001b[38;5;241m=\u001b[39mvmin,\n\u001b[1;32m   3366\u001b[0m         vmax\u001b[38;5;241m=\u001b[39mvmax,\n\u001b[1;32m   3367\u001b[0m         origin\u001b[38;5;241m=\u001b[39morigin,\n\u001b[1;32m   3368\u001b[0m         extent\u001b[38;5;241m=\u001b[39mextent,\n\u001b[1;32m   3369\u001b[0m         interpolation_stage\u001b[38;5;241m=\u001b[39minterpolation_stage,\n\u001b[1;32m   3370\u001b[0m         filternorm\u001b[38;5;241m=\u001b[39mfilternorm,\n\u001b[1;32m   3371\u001b[0m         filterrad\u001b[38;5;241m=\u001b[39mfilterrad,\n\u001b[1;32m   3372\u001b[0m         resample\u001b[38;5;241m=\u001b[39mresample,\n\u001b[1;32m   3373\u001b[0m         url\u001b[38;5;241m=\u001b[39murl,\n\u001b[1;32m   3374\u001b[0m         \u001b[38;5;241m*\u001b[39m\u001b[38;5;241m*\u001b[39m({\u001b[38;5;124m\"\u001b[39m\u001b[38;5;124mdata\u001b[39m\u001b[38;5;124m\"\u001b[39m: data} \u001b[38;5;28;01mif\u001b[39;00m data \u001b[38;5;129;01mis\u001b[39;00m \u001b[38;5;129;01mnot\u001b[39;00m \u001b[38;5;28;01mNone\u001b[39;00m \u001b[38;5;28;01melse\u001b[39;00m {}),\n\u001b[1;32m   3375\u001b[0m         \u001b[38;5;241m*\u001b[39m\u001b[38;5;241m*\u001b[39mkwargs,\n\u001b[1;32m   3376\u001b[0m     )\n\u001b[1;32m   3377\u001b[0m     sci(__ret)\n\u001b[1;32m   3378\u001b[0m     \u001b[38;5;28;01mreturn\u001b[39;00m __ret\n",
      "File \u001b[0;32m~/anaconda3/lib/python3.11/site-packages/matplotlib/__init__.py:1465\u001b[0m, in \u001b[0;36m_preprocess_data.<locals>.inner\u001b[0;34m(ax, data, *args, **kwargs)\u001b[0m\n\u001b[1;32m   1462\u001b[0m \u001b[38;5;129m@functools\u001b[39m\u001b[38;5;241m.\u001b[39mwraps(func)\n\u001b[1;32m   1463\u001b[0m \u001b[38;5;28;01mdef\u001b[39;00m \u001b[38;5;21minner\u001b[39m(ax, \u001b[38;5;241m*\u001b[39margs, data\u001b[38;5;241m=\u001b[39m\u001b[38;5;28;01mNone\u001b[39;00m, \u001b[38;5;241m*\u001b[39m\u001b[38;5;241m*\u001b[39mkwargs):\n\u001b[1;32m   1464\u001b[0m     \u001b[38;5;28;01mif\u001b[39;00m data \u001b[38;5;129;01mis\u001b[39;00m \u001b[38;5;28;01mNone\u001b[39;00m:\n\u001b[0;32m-> 1465\u001b[0m         \u001b[38;5;28;01mreturn\u001b[39;00m func(ax, \u001b[38;5;241m*\u001b[39m\u001b[38;5;28mmap\u001b[39m(sanitize_sequence, args), \u001b[38;5;241m*\u001b[39m\u001b[38;5;241m*\u001b[39mkwargs)\n\u001b[1;32m   1467\u001b[0m     bound \u001b[38;5;241m=\u001b[39m new_sig\u001b[38;5;241m.\u001b[39mbind(ax, \u001b[38;5;241m*\u001b[39margs, \u001b[38;5;241m*\u001b[39m\u001b[38;5;241m*\u001b[39mkwargs)\n\u001b[1;32m   1468\u001b[0m     auto_label \u001b[38;5;241m=\u001b[39m (bound\u001b[38;5;241m.\u001b[39marguments\u001b[38;5;241m.\u001b[39mget(label_namer)\n\u001b[1;32m   1469\u001b[0m                   \u001b[38;5;129;01mor\u001b[39;00m bound\u001b[38;5;241m.\u001b[39mkwargs\u001b[38;5;241m.\u001b[39mget(label_namer))\n",
      "File \u001b[0;32m~/anaconda3/lib/python3.11/site-packages/matplotlib/axes/_axes.py:5759\u001b[0m, in \u001b[0;36mAxes.imshow\u001b[0;34m(self, X, cmap, norm, aspect, interpolation, alpha, vmin, vmax, origin, extent, interpolation_stage, filternorm, filterrad, resample, url, **kwargs)\u001b[0m\n\u001b[1;32m   5756\u001b[0m \u001b[38;5;28;01mif\u001b[39;00m aspect \u001b[38;5;129;01mis\u001b[39;00m \u001b[38;5;129;01mnot\u001b[39;00m \u001b[38;5;28;01mNone\u001b[39;00m:\n\u001b[1;32m   5757\u001b[0m     \u001b[38;5;28mself\u001b[39m\u001b[38;5;241m.\u001b[39mset_aspect(aspect)\n\u001b[0;32m-> 5759\u001b[0m im\u001b[38;5;241m.\u001b[39mset_data(X)\n\u001b[1;32m   5760\u001b[0m im\u001b[38;5;241m.\u001b[39mset_alpha(alpha)\n\u001b[1;32m   5761\u001b[0m \u001b[38;5;28;01mif\u001b[39;00m im\u001b[38;5;241m.\u001b[39mget_clip_path() \u001b[38;5;129;01mis\u001b[39;00m \u001b[38;5;28;01mNone\u001b[39;00m:\n\u001b[1;32m   5762\u001b[0m     \u001b[38;5;66;03m# image does not already have clipping set, clip to axes patch\u001b[39;00m\n",
      "File \u001b[0;32m~/anaconda3/lib/python3.11/site-packages/matplotlib/image.py:723\u001b[0m, in \u001b[0;36m_ImageBase.set_data\u001b[0;34m(self, A)\u001b[0m\n\u001b[1;32m    721\u001b[0m \u001b[38;5;28;01mif\u001b[39;00m \u001b[38;5;28misinstance\u001b[39m(A, PIL\u001b[38;5;241m.\u001b[39mImage\u001b[38;5;241m.\u001b[39mImage):\n\u001b[1;32m    722\u001b[0m     A \u001b[38;5;241m=\u001b[39m pil_to_array(A)  \u001b[38;5;66;03m# Needed e.g. to apply png palette.\u001b[39;00m\n\u001b[0;32m--> 723\u001b[0m \u001b[38;5;28mself\u001b[39m\u001b[38;5;241m.\u001b[39m_A \u001b[38;5;241m=\u001b[39m \u001b[38;5;28mself\u001b[39m\u001b[38;5;241m.\u001b[39m_normalize_image_array(A)\n\u001b[1;32m    724\u001b[0m \u001b[38;5;28mself\u001b[39m\u001b[38;5;241m.\u001b[39m_imcache \u001b[38;5;241m=\u001b[39m \u001b[38;5;28;01mNone\u001b[39;00m\n\u001b[1;32m    725\u001b[0m \u001b[38;5;28mself\u001b[39m\u001b[38;5;241m.\u001b[39mstale \u001b[38;5;241m=\u001b[39m \u001b[38;5;28;01mTrue\u001b[39;00m\n",
      "File \u001b[0;32m~/anaconda3/lib/python3.11/site-packages/matplotlib/image.py:693\u001b[0m, in \u001b[0;36m_ImageBase._normalize_image_array\u001b[0;34m(A)\u001b[0m\n\u001b[1;32m    691\u001b[0m     A \u001b[38;5;241m=\u001b[39m A\u001b[38;5;241m.\u001b[39msqueeze(\u001b[38;5;241m-\u001b[39m\u001b[38;5;241m1\u001b[39m)  \u001b[38;5;66;03m# If just (M, N, 1), assume scalar and apply colormap.\u001b[39;00m\n\u001b[1;32m    692\u001b[0m \u001b[38;5;28;01mif\u001b[39;00m \u001b[38;5;129;01mnot\u001b[39;00m (A\u001b[38;5;241m.\u001b[39mndim \u001b[38;5;241m==\u001b[39m \u001b[38;5;241m2\u001b[39m \u001b[38;5;129;01mor\u001b[39;00m A\u001b[38;5;241m.\u001b[39mndim \u001b[38;5;241m==\u001b[39m \u001b[38;5;241m3\u001b[39m \u001b[38;5;129;01mand\u001b[39;00m A\u001b[38;5;241m.\u001b[39mshape[\u001b[38;5;241m-\u001b[39m\u001b[38;5;241m1\u001b[39m] \u001b[38;5;129;01min\u001b[39;00m [\u001b[38;5;241m3\u001b[39m, \u001b[38;5;241m4\u001b[39m]):\n\u001b[0;32m--> 693\u001b[0m     \u001b[38;5;28;01mraise\u001b[39;00m \u001b[38;5;167;01mTypeError\u001b[39;00m(\u001b[38;5;124mf\u001b[39m\u001b[38;5;124m\"\u001b[39m\u001b[38;5;124mInvalid shape \u001b[39m\u001b[38;5;132;01m{\u001b[39;00mA\u001b[38;5;241m.\u001b[39mshape\u001b[38;5;132;01m}\u001b[39;00m\u001b[38;5;124m for image data\u001b[39m\u001b[38;5;124m\"\u001b[39m)\n\u001b[1;32m    694\u001b[0m \u001b[38;5;28;01mif\u001b[39;00m A\u001b[38;5;241m.\u001b[39mndim \u001b[38;5;241m==\u001b[39m \u001b[38;5;241m3\u001b[39m:\n\u001b[1;32m    695\u001b[0m     \u001b[38;5;66;03m# If the input data has values outside the valid range (after\u001b[39;00m\n\u001b[1;32m    696\u001b[0m     \u001b[38;5;66;03m# normalisation), we issue a warning and then clip X to the bounds\u001b[39;00m\n\u001b[1;32m    697\u001b[0m     \u001b[38;5;66;03m# - otherwise casting wraps extreme values, hiding outliers and\u001b[39;00m\n\u001b[1;32m    698\u001b[0m     \u001b[38;5;66;03m# making reliable interpretation impossible.\u001b[39;00m\n\u001b[1;32m    699\u001b[0m     high \u001b[38;5;241m=\u001b[39m \u001b[38;5;241m255\u001b[39m \u001b[38;5;28;01mif\u001b[39;00m np\u001b[38;5;241m.\u001b[39missubdtype(A\u001b[38;5;241m.\u001b[39mdtype, np\u001b[38;5;241m.\u001b[39minteger) \u001b[38;5;28;01melse\u001b[39;00m \u001b[38;5;241m1\u001b[39m\n",
      "\u001b[0;31mTypeError\u001b[0m: Invalid shape (0, 14, 28) for image data"
     ]
    },
    {
     "data": {
      "image/png": "[encoded data removed]",
      "text/plain": [
       "<Figure size 1500x500 with 3 Axes>"
      ]
     },
     "metadata": {},
     "output_type": "display_data"
    }
   ],
   "source": [
    "# Cell 4: Add and remove dimensions\n",
    "# TODO: Add a new dimension to the 'images' tensor\n",
    "expanded_images = images.unsqueeze(1)\n",
    "print(\"Shape after adding dimension:\", expanded_images.shape)\n",
    "\n",
    "\n",
    "# TODO: Remove the added dimension from 'expanded_images'\n",
    "squeezed_images = expanded_images.squeeze(1)\n",
    "print(\"Shape after removing dimension:\", squeezed_images.shape)\n",
    "\n",
    "# Cell 5: Flatten tensors\n",
    "# TODO: Flatten the 'images' tensor to have shape (batch_size, -1)\n",
    "flattened_images = images.view(images.size(0), -1)\n",
    "print(\"Shape of flattened images:\", flattened_images.shape)\n",
    "\n",
    "# Cell 6: Slicing\n",
    "# TODO: Get the first 10 images from the 'images' tensor\n",
    "first_10_images = images[:10]\n",
    "print(\"Shape of first 10 images:\", first_10_images.shape)\n",
    "\n",
    "# TODO: Get all channels of the first image\n",
    "first_image_all_channels = images[0]\n",
    "print(\"Shape of first image (all channels):\", first_image_all_channels.shape)\n",
    "\n",
    "# TODO: Get a 14x14 slice from the center of each image\n",
    "center_slice = images[:, 7:21, 7:21]\n",
    "print(\"Shape of center slice:\", center_slice.shape)\n",
    "\n",
    "# Cell 7: Visualize original and manipulated images\n",
    "# TODO: Complete the visualization code\n",
    "plt.figure(figsize=(15, 5))\n",
    "\n",
    "# Original image\n",
    "plt.subplot(1, 3, 1)\n",
    "plt.imshow(images[0].squeeze(), cmap='gray')\n",
    "plt.title(\"Original Image\")\n",
    "plt.axis('off')\n",
    "\n",
    "# Flattened and reshaped image\n",
    "plt.subplot(1, 3, 2)\n",
    "plt.imshow(flattened_images[0].view(28, 28), cmap='gray')\n",
    "plt.title(\"Flattened and Reshaped Image\")\n",
    "plt.axis('off')\n",
    "\n",
    "# Center slice\n",
    "plt.subplot(1, 3, 3)\n",
    "plt.imshow(center_slice[0], cmap='gray')\n",
    "plt.title(\"Center Slice\")\n",
    "plt.axis('off')\n",
    "\n",
    "plt.tight_layout()\n",
    "plt.show()\n",
    "\n",
    "# Cell 8: Convert between NumPy and PyTorch\n",
    "# TODO: Convert the PyTorch 'images' tensor to a NumPy array\n",
    "np_images = images.cpu().numpy()\n",
    "print(\"Shape of NumPy array:\", np_images.shape)\n",
    "\n",
    "# TODO: Convert the NumPy array back to a PyTorch tensor\n",
    "torch_images = torch.from_numpy(np_images)\n",
    "print(\"Shape of PyTorch tensor:\", torch_images.shape)\n"
   ]
  },
  {
   "cell_type": "markdown",
   "id": "9dc23dea",
   "metadata": {},
   "source": [
    "Note:\n",
    "- This code demonstrates various tensor manipulation operations in PyTorch, including adding and removing dimensions, flattening tensors, and slicing tensors.\n",
    "\n",
    "Adding and Removing Dimensions:\n",
    "- The code adds a new dimension to the 'images' tensor using the `unsqueeze()` method, creating a 4D tensor with shape (batch_size, 1, height, width).\n",
    "- It then removes the added dimension using the `squeeze()` method, returning the tensor back to its original 3D shape (batch_size, height, width).\n",
    "\n",
    "Flattening Tensors:\n",
    "- The code flattens the 'images' tensor using the `view()` method, converting the 3D tensor (batch_size, height, width) to a 2D tensor (batch_size, height * width).\n",
    "\n",
    "Slicing Tensors:\n",
    "- The code extracts the first 10 images from the 'images' tensor using slicing with the range `[:10]`.\n",
    "- It then extracts all the channels of the first image using `images[0]`.\n",
    "- Finally, it extracts a 14x14 center slice from each image using the range `[:, 7:21, 7:21]`.\n",
    "\n",
    "Visualization:\n",
    "- The code visualizes the original image, the flattened and reshaped image, and the center slice using Matplotlib's `imshow()` function.\n",
    "\n",
    "Converting between NumPy and PyTorch:\n",
    "- The code converts the PyTorch 'images' tensor to a NumPy array using the `cpu().numpy()` method.\n",
    "- It then converts the NumPy array back to a PyTorch tensor using `torch.from_numpy()`.\n",
    "\n"
   ]
  },
  {
   "cell_type": "code",
   "execution_count": null,
   "id": "c5711dc8",
   "metadata": {},
   "outputs": [],
   "source": []
  }
 ],
 "metadata": {
  "kernelspec": {
   "display_name": "Python 3 (ipykernel)",
   "language": "python",
   "name": "python3"
  },
  "language_info": {
   "codemirror_mode": {
    "name": "ipython",
    "version": 3
   },
   "file_extension": ".py",
   "mimetype": "text/x-python",
   "name": "python",
   "nbconvert_exporter": "python",
   "pygments_lexer": "ipython3",
   "version": "3.11.5"
  }
 },
 "nbformat": 4,
 "nbformat_minor": 5
}
