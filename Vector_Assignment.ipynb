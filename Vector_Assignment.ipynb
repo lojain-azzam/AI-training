{
 "cells": [
  {
   "cell_type": "markdown",
   "id": "46296b70",
   "metadata": {},
   "source": [
    "## Vector Assignment\n",
    "The first assignment in Computer vision training with Palsoft \n",
    "\n",
    "### Questions:\n",
    "\n",
    "\n",
    "### 1. Define what a vector is in your own word and Provide an example of a vector and explain how it's different from a scalar number?\n"
   ]
  },
  {
   "cell_type": "markdown",
   "id": "92bdff06",
   "metadata": {},
   "source": [
    "## **Answer:** \n",
    "**A vector** is represented as a directed line segment with a starting point and an ending point, it is typically represented as a 1-dimensional array or a matrix with a single colum or row, also the victor has Magnitude(length)\n",
    "and Direction.\n",
    "\n",
    "**vectors a = (a1, . . . , an)**\n",
    "\n",
    "Vectors can be subjected to various **mathematical operations**, such as:\n",
    "1. Vector addition\n",
    "2. Vector subtraction\n",
    "3. Vector dot product:\n",
    "4. Vector cross product\n",
    "5. Scalar multiplication\n",
    "\n",
    "### **An example of a vector:**\n",
    "\n",
    "Consider a person walking from one location to another in a two-dimensional (x-y) coordinate system. The person starts at the point (0, 0) and walks to the point (3, 4).\n",
    "v = (3,4)\n",
    "\n",
    "\n",
    "This vector example is different from a **scalar number**, which would only have a magnitude (e.g., 5) without a specific direction. The vector v has both magnitude (5) and direction.\n",
    "\n",
    "**A vector has both magnitude (length) and direction, while a scalar number has only a magnitude (a single value).**\n",
    "\n",
    "\n",
    "\n",
    "### Basis Vectors\n",
    "\n",
    "Basis vectors are a set of vectors that can represent any vector in the space\n",
    "They are **linearly independent** (no vector can be created from the others)\n",
    "The number of basis vectors equals the dimension of the space"
   ]
  },
  {
   "cell_type": "markdown",
   "id": "1fee007f",
   "metadata": {},
   "source": [
    "### here's an example of a vector in code:"
   ]
  },
  {
   "cell_type": "code",
   "execution_count": 1,
   "id": "66f1b957",
   "metadata": {},
   "outputs": [
    {
     "name": "stdout",
     "output_type": "stream",
     "text": [
      "Magnitude of the vector: 5.0\n",
      "Direction of the vector: 53.13 degrees\n",
      "Unit vector: [0.6 0.8]\n"
     ]
    }
   ],
   "source": [
    "import numpy as np\n",
    "\n",
    "# Create a vector\n",
    "v = np.array([3, 4])\n",
    "\n",
    "# Calculate the magnitude (length) of the vector\n",
    "magnitude = np.linalg.norm(v)\n",
    "print(f\"Magnitude of the vector: {magnitude}\")\n",
    "\n",
    "# Calculate the direction of the vector (angle with the positive x-axis)\n",
    "angle = np.arctan2(v[1], v[0]) * 180 / np.pi\n",
    "print(f\"Direction of the vector: {angle:.2f} degrees\")\n",
    "\n",
    "# Normalize the vector (convert it to a unit vector)\n",
    "unit_vector = v / magnitude\n",
    "print(f\"Unit vector: {unit_vector}\")"
   ]
  },
  {
   "cell_type": "markdown",
   "id": "8f8cbca0",
   "metadata": {},
   "source": [
    "### 2. Give three real-world examples of where vectors are used? \n",
    "\n",
    "* in computer graphics, where they are used to create and transform shapes.\n",
    "* in physics, vectors are used to describe motion (velocity, acceleration, force), \n",
    "* in engineering they are used to understand and design structures. \n",
    "\n",
    "\n",
    "Vectors in Real Life\n",
    "* Force: A push or pull (e.g., 5 Newtons to the right)\n",
    "* Velocity: Speed with direction (e.g., 60 km/h north)\n",
    "* Wind: Speed and direction of air movement (e.g., 20 mph southwest)\n"
   ]
  },
  {
   "cell_type": "markdown",
   "id": "4b33e80a",
   "metadata": {},
   "source": [
    "4. Consider the vector space R^2 (2D plane). Give an example of a basis for this space and explain why it forms a basis.\n"
   ]
  },
  {
   "cell_type": "code",
   "execution_count": 4,
   "id": "bd637df1",
   "metadata": {},
   "outputs": [
    {
     "data": {
      "image/png": "[encoded data removed]",
      "text/plain": [
       "<Figure size 800x800 with 1 Axes>"
      ]
     },
     "metadata": {},
     "output_type": "display_data"
    }
   ],
   "source": [
    "import matplotlib.pyplot as plt\n",
    "import numpy as np\n",
    "\n",
    "# Create the x and y coordinates for the plot\n",
    "x = np.linspace(-5, 5, 11)\n",
    "y = np.linspace(-5, 5, 11)\n",
    "\n",
    "# Create a meshgrid of the x and y coordinates\n",
    "X, Y = np.meshgrid(x, y)\n",
    "\n",
    "# Create a figure and axis\n",
    "fig, ax = plt.subplots(figsize=(8, 8))\n",
    "\n",
    "# Plot the grid\n",
    "ax.grid()\n",
    "\n",
    "# Plot the x and y axes\n",
    "ax.axhline(y=0, color='k', linewidth=1)\n",
    "ax.axvline(x=0, color='k', linewidth=1)\n",
    "\n",
    "# Set the axis limits\n",
    "ax.set_xlim(-5, 5)\n",
    "ax.set_ylim(-5, 5)\n",
    "\n",
    "# Set the axis labels\n",
    "ax.set_xlabel('x')\n",
    "ax.set_ylabel('y')\n",
    "\n",
    "# Plot the point (2, 3)\n",
    "ax.scatter(2, 3, color='r', s=100)\n",
    "ax.text(2.1, 3.1, '(2, 3)', color='r')\n",
    "\n",
    "# Calculate the slope of the line passing through (2, 3)\n",
    "slope = 3 / 2\n",
    "\n",
    "# Plot the line passing through (2, 3)\n",
    "x_line = np.linspace(-5, 5, 100)\n",
    "y_line = slope * (x_line - 2) + 3\n",
    "ax.plot(x_line, y_line, color='b', linewidth=2)\n",
    "ax.text(4, 1, 'Line passing through (2, 3)', color='b')\n",
    "\n",
    "# Show the plot\n",
    "plt.show()"
   ]
  },
  {
   "cell_type": "code",
   "execution_count": null,
   "id": "1db8d979",
   "metadata": {},
   "outputs": [],
   "source": []
  }
 ],
 "metadata": {
  "kernelspec": {
   "display_name": "Python 3 (ipykernel)",
   "language": "python",
   "name": "python3"
  },
  "language_info": {
   "codemirror_mode": {
    "name": "ipython",
    "version": 3
   },
   "file_extension": ".py",
   "mimetype": "text/x-python",
   "name": "python",
   "nbconvert_exporter": "python",
   "pygments_lexer": "ipython3",
   "version": "3.11.5"
  }
 },
 "nbformat": 4,
 "nbformat_minor": 5
}
