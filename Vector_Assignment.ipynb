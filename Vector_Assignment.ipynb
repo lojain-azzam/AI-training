{
 "cells": [
  {
   "cell_type": "markdown",
   "id": "46296b70",
   "metadata": {},
   "source": [
    "## Vector Assignment\n",
    "The first assignment in Computer vision training with Palsoft \n",
    "\n",
    "### Questions:\n",
    "\n",
    "\n",
    "### 1. Define what a vector is in your own word and Provide an example of a vector and explain how it's different from a scalar number?\n"
   ]
  },
  {
   "cell_type": "markdown",
   "id": "92bdff06",
   "metadata": {},
   "source": [
    "## **Answer:** \n",
    "**A vector** is represented as a directed line segment with a starting point and an ending point, it is typically represented as a 1-dimensional array or a matrix with a single colum or row, also the victor has Magnitude(length)\n",
    "and Direction.\n",
    "\n",
    "Vectors can be subjected to various **mathematical operations**, such as:\n",
    "1. Vector addition\n",
    "2. Vector subtraction\n",
    "3. Vector dot product:\n",
    "4. Vector cross product\n",
    "5. Scalar multiplication\n",
    "\n",
    "### **An example of a vector:**\n",
    "\n",
    "Consider a person walking from one location to another in a two-dimensional (x-y) coordinate system. The person starts at the point (0, 0) and walks to the point (3, 4).\n",
    "\n",
    "1. Magnitude (length): \n",
    "\n",
    "The magnitude of the vector is the distance between the starting point (0, 0) and the ending point (3, 4). This can be calculated using the Pythagorean theorem: Magnitude = sqrt((3^2) + (4^2)) = 5\n",
    "\n",
    "2. Direction: \n",
    "\n",
    "The direction of the vector is the angle it makes with the positive x-axis. This can be calculated using the inverse tangent function: Angle = arctan(4/3) ≈ 53.13 degrees\n",
    "\n",
    "This vector example is different from a **scalar number**, which would only have a magnitude (e.g., 5) without a specific direction. The vector v has both magnitude (5) and direction (approximately 53.13 degrees), which makes it a more complete representation of the person's displacement.\n",
    "\n",
    "**A vector has both magnitude (length) and direction, while a scalar number has only a magnitude (a single value).**\n"
   ]
  },
  {
   "cell_type": "markdown",
   "id": "1fee007f",
   "metadata": {},
   "source": [
    "### here's an example of a vector in code:"
   ]
  },
  {
   "cell_type": "code",
   "execution_count": 1,
   "id": "66f1b957",
   "metadata": {},
   "outputs": [
    {
     "name": "stdout",
     "output_type": "stream",
     "text": [
      "Magnitude of the vector: 5.0\n",
      "Direction of the vector: 53.13 degrees\n",
      "Unit vector: [0.6 0.8]\n"
     ]
    }
   ],
   "source": [
    "import numpy as np\n",
    "\n",
    "# Create a vector\n",
    "v = np.array([3, 4])\n",
    "\n",
    "# Calculate the magnitude (length) of the vector\n",
    "magnitude = np.linalg.norm(v)\n",
    "print(f\"Magnitude of the vector: {magnitude}\")\n",
    "\n",
    "# Calculate the direction of the vector (angle with the positive x-axis)\n",
    "angle = np.arctan2(v[1], v[0]) * 180 / np.pi\n",
    "print(f\"Direction of the vector: {angle:.2f} degrees\")\n",
    "\n",
    "# Normalize the vector (convert it to a unit vector)\n",
    "unit_vector = v / magnitude\n",
    "print(f\"Unit vector: {unit_vector}\")"
   ]
  },
  {
   "cell_type": "markdown",
   "id": "8f8cbca0",
   "metadata": {},
   "source": [
    "### 2. Give three real-world examples of where vectors are used? \n",
    "\n",
    "a. Throwing a Ball\n",
    "b. \n",
    "c. \n",
    "\n"
   ]
  },
  {
   "cell_type": "code",
   "execution_count": 2,
   "id": "bd637df1",
   "metadata": {},
   "outputs": [
    {
     "data": {
      "image/png": "[encoded data removed]",
      "text/plain": [
       "<Figure size 600x600 with 1 Axes>"
      ]
     },
     "metadata": {},
     "output_type": "display_data"
    }
   ],
   "source": [
    "import numpy as np\n",
    "import matplotlib.pyplot as plt\n",
    "\n",
    "# Standard basis vectors for R^2\n",
    "e1 = np.array([1, 0])\n",
    "e2 = np.array([0, 1])\n",
    "\n",
    "# Create a figure and axis\n",
    "fig, ax = plt.subplots(figsize=(6, 6))\n",
    "\n",
    "# Plot the 2D plane\n",
    "ax.set_xlim([-5, 5])\n",
    "ax.set_ylim([-5, 5])\n",
    "ax.grid(True)\n",
    "ax.set_aspect('equal')\n",
    "ax.set_xlabel('x')\n",
    "ax.set_ylabel('y')\n",
    "ax.set_title('2D Plane (R^2)')\n",
    "\n",
    "# Plot the standard basis vectors\n",
    "ax.arrow(0, 0, e1[0], e1[1], head_width=0.2, head_length=0.3, color='r')\n",
    "ax.text(e1[0] + 0.2, e1[1] + 0.2, 'e1', color='r')\n",
    "ax.arrow(0, 0, e2[0], e2[1], head_width=0.2, head_length=0.3, color='g')\n",
    "ax.text(e2[0] + 0.2, e2[1] + 0.2, 'e2', color='g')\n",
    "\n",
    "plt.show()"
   ]
  },
  {
   "cell_type": "code",
   "execution_count": null,
   "id": "1db8d979",
   "metadata": {},
   "outputs": [],
   "source": []
  }
 ],
 "metadata": {
  "kernelspec": {
   "display_name": "Python 3 (ipykernel)",
   "language": "python",
   "name": "python3"
  },
  "language_info": {
   "codemirror_mode": {
    "name": "ipython",
    "version": 3
   },
   "file_extension": ".py",
   "mimetype": "text/x-python",
   "name": "python",
   "nbconvert_exporter": "python",
   "pygments_lexer": "ipython3",
   "version": "3.11.5"
  }
 },
 "nbformat": 4,
 "nbformat_minor": 5
}
