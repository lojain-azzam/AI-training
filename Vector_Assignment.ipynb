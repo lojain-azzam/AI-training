{
 "cells": [
  {
   "cell_type": "markdown",
   "id": "738c4970",
   "metadata": {},
   "source": [
    "# Vector Assignment\n"
   ]
  },
  {
   "cell_type": "code",
   "execution_count": 9,
   "id": "d9e8d005",
   "metadata": {},
   "outputs": [
    {
     "data": {
      "image/png": "[encoded data removed]",
      "text/plain": [
       "<IPython.core.display.Image object>"
      ]
     },
     "execution_count": 9,
     "metadata": {
      "image/png": {
       "width": 750
      }
     },
     "output_type": "execute_result"
    }
   ],
   "source": [
    "from IPython.display import Image\n",
    "Image(filename='images/Vector.png', width=750)"
   ]
  },
  {
   "cell_type": "markdown",
   "id": "46296b70",
   "metadata": {},
   "source": [
    "\n",
    "### Questions:\n",
    "\n",
    "\n",
    "#### 1. Define what a vector is in your own word and Provide an example of a vector and explain how it's different from a scalar number?\n"
   ]
  },
  {
   "cell_type": "markdown",
   "id": "92bdff06",
   "metadata": {},
   "source": [
    "#### **Answer:**\n",
    "`A vector` is represented as a directed line segment with a starting point and an ending point, it is typically represented as a 1-dimensional array or a matrix with a single colum or row, also the victor has Magnitude(length)\n",
    "and Direction.\n",
    "\n",
    "`vectors a = (a1, . . . , an)`\n",
    "\n",
    "Vectors can be subjected to various `mathematical operations`, such as:\n",
    "1. Vector addition\n",
    "2. Vector subtraction\n",
    "3. Vector dot product:\n",
    "4. Vector cross product\n",
    "5. Scalar multiplication\n",
    "\n",
    "#### **An example of a vector:**\n",
    "\n",
    "v = (2,3)\n",
    "\n",
    "`A vector has both magnitude (length) and direction, while a scalar number has only a magnitude (a single value).`\n"
   ]
  },
  {
   "cell_type": "markdown",
   "id": "8f8cbca0",
   "metadata": {},
   "source": [
    "#### 2. Give three real-world examples of where vectors are used? \n",
    "\n",
    "#### **Answer:** \n",
    "\n",
    "* in computer graphics, where they are used to create and transform shapes.\n",
    "* in physics, vectors are used to describe motion (velocity, acceleration, force), \n",
    "* in engineering they are used to understand and design structures. \n",
    "\n",
    "\n",
    "`Vectors in Real Life`\n",
    "* Force: A push or pull (e.g., 5 Newtons to the right)\n",
    "* Velocity: Speed with direction (e.g., 60 km/h north)\n",
    "* Wind: Speed and direction of air movement (e.g., 20 mph southwest)\n"
   ]
  },
  {
   "cell_type": "markdown",
   "id": "23340efa",
   "metadata": {},
   "source": [
    "#### 3. Explain the concept of a basis in vector spaces. What properties must a set of vectors have to be considered a basis?\n",
    "\n",
    "#### **Answer:** \n",
    "\n",
    "A basis is a set of linearly independent vectors that span the entire vector space. In other words, a basis is a set of vectors that can be used to represent any vector in the vector space as a unique linear combination.\n",
    "\n",
    "vectors to be considered a basis of a vector space V, it must satisfy the two properties both `the linear independence and spanning properties`"
   ]
  },
  {
   "cell_type": "markdown",
   "id": "4b33e80a",
   "metadata": {},
   "source": [
    "#### 4. Consider the vector space R^2 (2D plane). Give an example of a basis for this space and explain why it forms a basis.\n"
   ]
  },
  {
   "cell_type": "markdown",
   "id": "aadb683d",
   "metadata": {},
   "source": [
    "A basis for the vector space R^2 is the set of vectors `{(1, 0), (0, 1)}`.\n",
    "\n",
    "`Explanation:`\n",
    "\n",
    "1. The set {(1, 0), (0, 1)} consists of two linearly independent vectors in R^2.\n",
    "* The vector (1, 0) represents the standard basis vector in the x-direction.\n",
    "* The vector (0, 1) represents the standard basis vector in the y-direction.\n",
    "\n",
    "2. Any vector in the 2D plane (R^2) can be expressed as a unique linear combination of these two basis vectors. Any vector (x, y) in R^2 can be written as:\n",
    "* (x, y) = x * (1, 0) + y * (0, 1)\n",
    "* This means that the basis vectors {(1, 0), (0, 1)} can generate all the vectors in the 2D plane by taking linear combinations of these two vectors.\n",
    "\n",
    "3. The set {(1, 0), (0, 1)} is `linearly independent`.\n",
    "* This means that the only way to express the zero vector (0, 0) as a linear combination of these vectors is when the coefficients are both zero.\n"
   ]
  },
  {
   "cell_type": "code",
   "execution_count": null,
   "id": "1db8d979",
   "metadata": {},
   "outputs": [],
   "source": []
  }
 ],
 "metadata": {
  "kernelspec": {
   "display_name": "Python 3 (ipykernel)",
   "language": "python",
   "name": "python3"
  },
  "language_info": {
   "codemirror_mode": {
    "name": "ipython",
    "version": 3
   },
   "file_extension": ".py",
   "mimetype": "text/x-python",
   "name": "python",
   "nbconvert_exporter": "python",
   "pygments_lexer": "ipython3",
   "version": "3.11.5"
  }
 },
 "nbformat": 4,
 "nbformat_minor": 5
}
